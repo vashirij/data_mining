{
 "cells": [
  {
   "cell_type": "code",
   "execution_count": 1,
   "metadata": {},
   "outputs": [],
   "source": [
    "#TODAY'S LESSON:\n",
    "#Introduction to Python"
   ]
  },
  {
   "cell_type": "code",
   "execution_count": 3,
   "metadata": {},
   "outputs": [],
   "source": [
    "\n",
    "%matplotlib inline\n",
    "import matplotlib.pyplot as plt\n",
    "import numpy as np\n",
    "import pandas as pd"
   ]
  },
  {
   "cell_type": "code",
   "execution_count": 61,
   "metadata": {},
   "outputs": [
    {
     "data": {
      "text/plain": [
       "168"
      ]
     },
     "execution_count": 61,
     "metadata": {},
     "output_type": "execute_result"
    }
   ],
   "source": [
    "#direct numerical calculations\n",
    "24 * 7"
   ]
  },
  {
   "cell_type": "code",
   "execution_count": 201,
   "metadata": {},
   "outputs": [],
   "source": [
    "#easy variables\n",
    "hours_in_a_week = 24 * 7"
   ]
  },
  {
   "cell_type": "code",
   "execution_count": 202,
   "metadata": {},
   "outputs": [
    {
     "data": {
      "text/plain": [
       "168"
      ]
     },
     "execution_count": 202,
     "metadata": {},
     "output_type": "execute_result"
    }
   ],
   "source": [
    "hours_in_a_week"
   ]
  },
  {
   "cell_type": "code",
   "execution_count": 203,
   "metadata": {},
   "outputs": [
    {
     "data": {
      "text/plain": [
       "16800"
      ]
     },
     "execution_count": 203,
     "metadata": {},
     "output_type": "execute_result"
    }
   ],
   "source": [
    "hours_in_a_week * 100"
   ]
  },
  {
   "cell_type": "markdown",
   "metadata": {},
   "source": [
    "Terminology: expressions, values, names, variables, statements\n",
    "\n",
    "Naming rules: letters, numbers, underscores; case sensitive; start with letter usually\n",
    "\n",
    "Calculate the number of seconds in a year."
   ]
  },
  {
   "cell_type": "code",
   "execution_count": 204,
   "metadata": {},
   "outputs": [
    {
     "data": {
      "text/plain": [
       "31536000"
      ]
     },
     "execution_count": 204,
     "metadata": {},
     "output_type": "execute_result"
    }
   ],
   "source": [
    "60 * 60 * 24 * 365"
   ]
  },
  {
   "cell_type": "code",
   "execution_count": 205,
   "metadata": {},
   "outputs": [],
   "source": [
    "seconds_per_year = 60 * 60 * 24 * 365"
   ]
  },
  {
   "cell_type": "code",
   "execution_count": 206,
   "metadata": {},
   "outputs": [
    {
     "data": {
      "text/plain": [
       "31536000"
      ]
     },
     "execution_count": 206,
     "metadata": {},
     "output_type": "execute_result"
    }
   ],
   "source": [
    "seconds_per_year"
   ]
  },
  {
   "cell_type": "code",
   "execution_count": 207,
   "metadata": {},
   "outputs": [
    {
     "data": {
      "text/plain": [
       "31536000"
      ]
     },
     "execution_count": 207,
     "metadata": {},
     "output_type": "execute_result"
    }
   ],
   "source": [
    "seconds_per_hour = 60 * 60\n",
    "hours_per_year = 24 * 365\n",
    "seconds_per_year = seconds_per_hour * hours_per_year\n",
    "seconds_per_year"
   ]
  },
  {
   "cell_type": "code",
   "execution_count": 208,
   "metadata": {},
   "outputs": [],
   "source": [
    "import datetime as dt\n",
    "import time as tm"
   ]
  },
  {
   "cell_type": "code",
   "execution_count": 209,
   "metadata": {},
   "outputs": [
    {
     "data": {
      "text/plain": [
       "1599145306.082999"
      ]
     },
     "execution_count": 209,
     "metadata": {},
     "output_type": "execute_result"
    }
   ],
   "source": [
    "tm.time() \n",
    "#current time in sec since jan1970"
   ]
  },
  {
   "cell_type": "code",
   "execution_count": 210,
   "metadata": {},
   "outputs": [
    {
     "name": "stdout",
     "output_type": "stream",
     "text": [
      "2020-09-03\n"
     ]
    }
   ],
   "source": [
    "today = dt.date.today()\n",
    "print(today)"
   ]
  },
  {
   "cell_type": "code",
   "execution_count": 211,
   "metadata": {},
   "outputs": [
    {
     "data": {
      "text/plain": [
       "10"
      ]
     },
     "execution_count": 211,
     "metadata": {},
     "output_type": "execute_result"
    }
   ],
   "source": [
    "dtnow = dt.datetime.fromtimestamp(tm.time())\n",
    "dtnow.hour"
   ]
  },
  {
   "cell_type": "code",
   "execution_count": 212,
   "metadata": {},
   "outputs": [
    {
     "data": {
      "text/plain": [
       "str"
      ]
     },
     "execution_count": 212,
     "metadata": {},
     "output_type": "execute_result"
    }
   ],
   "source": [
    "type('hi')"
   ]
  },
  {
   "cell_type": "code",
   "execution_count": 213,
   "metadata": {},
   "outputs": [
    {
     "data": {
      "text/plain": [
       "str"
      ]
     },
     "execution_count": 213,
     "metadata": {},
     "output_type": "execute_result"
    }
   ],
   "source": [
    "type('1000.00')"
   ]
  },
  {
   "cell_type": "code",
   "execution_count": 214,
   "metadata": {},
   "outputs": [
    {
     "data": {
      "text/plain": [
       "float"
      ]
     },
     "execution_count": 214,
     "metadata": {},
     "output_type": "execute_result"
    }
   ],
   "source": [
    "type(1000.00)"
   ]
  },
  {
   "cell_type": "code",
   "execution_count": 215,
   "metadata": {},
   "outputs": [
    {
     "data": {
      "text/plain": [
       "int"
      ]
     },
     "execution_count": 215,
     "metadata": {},
     "output_type": "execute_result"
    }
   ],
   "source": [
    "type(1000)"
   ]
  },
  {
   "cell_type": "code",
   "execution_count": 216,
   "metadata": {},
   "outputs": [],
   "source": [
    "u = [1, 2, 3]"
   ]
  },
  {
   "cell_type": "code",
   "execution_count": 217,
   "metadata": {},
   "outputs": [
    {
     "data": {
      "text/plain": [
       "list"
      ]
     },
     "execution_count": 217,
     "metadata": {},
     "output_type": "execute_result"
    }
   ],
   "source": [
    "type(u)"
   ]
  },
  {
   "cell_type": "code",
   "execution_count": 218,
   "metadata": {},
   "outputs": [
    {
     "data": {
      "text/plain": [
       "tuple"
      ]
     },
     "execution_count": 218,
     "metadata": {},
     "output_type": "execute_result"
    }
   ],
   "source": [
    "v=(1,2,3)\n",
    "type(v)"
   ]
  },
  {
   "cell_type": "code",
   "execution_count": 219,
   "metadata": {},
   "outputs": [
    {
     "data": {
      "text/plain": [
       "[1, 2, 3, 4]"
      ]
     },
     "execution_count": 219,
     "metadata": {},
     "output_type": "execute_result"
    }
   ],
   "source": [
    "u.append(4)\n",
    "u"
   ]
  },
  {
   "cell_type": "code",
   "execution_count": 220,
   "metadata": {},
   "outputs": [
    {
     "data": {
      "text/plain": [
       "5"
      ]
     },
     "execution_count": 220,
     "metadata": {},
     "output_type": "execute_result"
    }
   ],
   "source": [
    "#built in functions\n",
    "abs(-5)"
   ]
  },
  {
   "cell_type": "code",
   "execution_count": 221,
   "metadata": {},
   "outputs": [
    {
     "data": {
      "text/plain": [
       "5"
      ]
     },
     "execution_count": 221,
     "metadata": {},
     "output_type": "execute_result"
    }
   ],
   "source": [
    "abs(3-8)"
   ]
  },
  {
   "cell_type": "code",
   "execution_count": 222,
   "metadata": {},
   "outputs": [
    {
     "data": {
      "text/plain": [
       "4"
      ]
     },
     "execution_count": 222,
     "metadata": {},
     "output_type": "execute_result"
    }
   ],
   "source": [
    "max(3,4)"
   ]
  },
  {
   "cell_type": "code",
   "execution_count": 223,
   "metadata": {},
   "outputs": [],
   "source": [
    "y = max(3,4)"
   ]
  },
  {
   "cell_type": "code",
   "execution_count": 224,
   "metadata": {},
   "outputs": [
    {
     "data": {
      "text/plain": [
       "4"
      ]
     },
     "execution_count": 224,
     "metadata": {},
     "output_type": "execute_result"
    }
   ],
   "source": [
    "y"
   ]
  },
  {
   "cell_type": "code",
   "execution_count": 225,
   "metadata": {},
   "outputs": [
    {
     "data": {
      "text/plain": [
       "3"
      ]
     },
     "execution_count": 225,
     "metadata": {},
     "output_type": "execute_result"
    }
   ],
   "source": [
    "y = min(3,4)\n",
    "y"
   ]
  },
  {
   "cell_type": "code",
   "execution_count": 226,
   "metadata": {},
   "outputs": [],
   "source": [
    "def adding(x,y,z=None):\n",
    "    if (z==None):\n",
    "        return x+y\n",
    "    else:\n",
    "        return x+y+z"
   ]
  },
  {
   "cell_type": "code",
   "execution_count": 227,
   "metadata": {},
   "outputs": [
    {
     "name": "stdout",
     "output_type": "stream",
     "text": [
      "7\n"
     ]
    }
   ],
   "source": [
    "print(adding(3, 4))\n"
   ]
  },
  {
   "cell_type": "code",
   "execution_count": 228,
   "metadata": {},
   "outputs": [
    {
     "name": "stdout",
     "output_type": "stream",
     "text": [
      "12\n"
     ]
    }
   ],
   "source": [
    "print(adding(3, 4, 5))"
   ]
  },
  {
   "cell_type": "code",
   "execution_count": 229,
   "metadata": {},
   "outputs": [],
   "source": [
    "f=adding"
   ]
  },
  {
   "cell_type": "code",
   "execution_count": 230,
   "metadata": {},
   "outputs": [
    {
     "data": {
      "text/plain": [
       "9"
      ]
     },
     "execution_count": 230,
     "metadata": {},
     "output_type": "execute_result"
    }
   ],
   "source": [
    "f(6,3)"
   ]
  },
  {
   "cell_type": "code",
   "execution_count": 231,
   "metadata": {},
   "outputs": [
    {
     "data": {
      "text/plain": [
       "9"
      ]
     },
     "execution_count": 231,
     "metadata": {},
     "output_type": "execute_result"
    }
   ],
   "source": [
    "f2 = lambda a, b : max(a,b)\n",
    "f2(8,9)"
   ]
  },
  {
   "cell_type": "code",
   "execution_count": 232,
   "metadata": {},
   "outputs": [
    {
     "data": {
      "text/plain": [
       "-10"
      ]
     },
     "execution_count": 232,
     "metadata": {},
     "output_type": "execute_result"
    }
   ],
   "source": [
    "f2 = lambda a, b,c : a-b*c\n",
    "f2(8,9,2)"
   ]
  },
  {
   "cell_type": "code",
   "execution_count": 233,
   "metadata": {},
   "outputs": [
    {
     "data": {
      "text/plain": [
       "1"
      ]
     },
     "execution_count": 233,
     "metadata": {},
     "output_type": "execute_result"
    }
   ],
   "source": [
    "x=[1,2,3]\n",
    "x[0]"
   ]
  },
  {
   "cell_type": "code",
   "execution_count": 234,
   "metadata": {},
   "outputs": [
    {
     "data": {
      "text/plain": [
       "3"
      ]
     },
     "execution_count": 234,
     "metadata": {},
     "output_type": "execute_result"
    }
   ],
   "source": [
    "x[-1]"
   ]
  },
  {
   "cell_type": "code",
   "execution_count": 235,
   "metadata": {},
   "outputs": [
    {
     "name": "stdout",
     "output_type": "stream",
     "text": [
      "2\n",
      "3\n",
      "4\n"
     ]
    }
   ],
   "source": [
    "sum=0\n",
    "for item in x:\n",
    "    item+=1\n",
    "    sum = sum+item\n",
    "    print(item)\n",
    "    \n",
    " \n",
    "   "
   ]
  },
  {
   "cell_type": "code",
   "execution_count": 236,
   "metadata": {
    "scrolled": false
   },
   "outputs": [
    {
     "name": "stdout",
     "output_type": "stream",
     "text": [
      "9\n"
     ]
    }
   ],
   "source": [
    "print(sum)\n"
   ]
  },
  {
   "cell_type": "code",
   "execution_count": 237,
   "metadata": {},
   "outputs": [
    {
     "data": {
      "text/plain": [
       "3"
      ]
     },
     "execution_count": 237,
     "metadata": {},
     "output_type": "execute_result"
    }
   ],
   "source": [
    "len(x)"
   ]
  },
  {
   "cell_type": "code",
   "execution_count": 238,
   "metadata": {
    "scrolled": true
   },
   "outputs": [],
   "source": [
    "\n",
    "##Numpy\n"
   ]
  },
  {
   "cell_type": "code",
   "execution_count": 239,
   "metadata": {},
   "outputs": [
    {
     "data": {
      "text/plain": [
       "array([1, 2, 3])"
      ]
     },
     "execution_count": 239,
     "metadata": {},
     "output_type": "execute_result"
    }
   ],
   "source": [
    "\n",
    "ar = np.array(x)\n",
    "ar"
   ]
  },
  {
   "cell_type": "code",
   "execution_count": 240,
   "metadata": {},
   "outputs": [
    {
     "data": {
      "text/plain": [
       "array([0, 3, 6, 9])"
      ]
     },
     "execution_count": 240,
     "metadata": {},
     "output_type": "execute_result"
    }
   ],
   "source": [
    "nr = np.arange(0, 12, 3) # start at 0 count up by 3, stop before 12\n",
    "nr"
   ]
  },
  {
   "cell_type": "code",
   "execution_count": 241,
   "metadata": {},
   "outputs": [
    {
     "data": {
      "text/plain": [
       "array([ 0,  9, 36, 81])"
      ]
     },
     "execution_count": 241,
     "metadata": {},
     "output_type": "execute_result"
    }
   ],
   "source": [
    "yy=nr**2\n",
    "yy"
   ]
  },
  {
   "cell_type": "code",
   "execution_count": 242,
   "metadata": {},
   "outputs": [
    {
     "data": {
      "text/plain": [
       "(4,)"
      ]
     },
     "execution_count": 242,
     "metadata": {},
     "output_type": "execute_result"
    }
   ],
   "source": [
    "nr.shape"
   ]
  },
  {
   "cell_type": "code",
   "execution_count": 243,
   "metadata": {},
   "outputs": [
    {
     "data": {
      "text/plain": [
       "4"
      ]
     },
     "execution_count": 243,
     "metadata": {},
     "output_type": "execute_result"
    }
   ],
   "source": [
    "len(nr)"
   ]
  },
  {
   "cell_type": "code",
   "execution_count": 244,
   "metadata": {},
   "outputs": [
    {
     "data": {
      "text/plain": [
       "array([0.        , 0.33333333, 0.66666667, 1.        ])"
      ]
     },
     "execution_count": 244,
     "metadata": {},
     "output_type": "execute_result"
    }
   ],
   "source": [
    "uu = np.linspace(0, 1, 4) # return 4 evenly spaced values from 0 to 1\n",
    "uu"
   ]
  },
  {
   "cell_type": "code",
   "execution_count": 245,
   "metadata": {},
   "outputs": [
    {
     "data": {
      "text/plain": [
       "array([[0., 0.],\n",
       "       [0., 0.]])"
      ]
     },
     "execution_count": 245,
     "metadata": {},
     "output_type": "execute_result"
    }
   ],
   "source": [
    "np.zeros((2, 2))"
   ]
  },
  {
   "cell_type": "code",
   "execution_count": 246,
   "metadata": {},
   "outputs": [
    {
     "data": {
      "text/plain": [
       "array([[1., 1., 1.],\n",
       "       [1., 1., 1.]])"
      ]
     },
     "execution_count": 246,
     "metadata": {},
     "output_type": "execute_result"
    }
   ],
   "source": [
    "np.ones((2, 3))"
   ]
  },
  {
   "cell_type": "code",
   "execution_count": 247,
   "metadata": {},
   "outputs": [
    {
     "data": {
      "text/plain": [
       "array([[1., 0.],\n",
       "       [0., 1.]])"
      ]
     },
     "execution_count": 247,
     "metadata": {},
     "output_type": "execute_result"
    }
   ],
   "source": [
    "np.eye(2)"
   ]
  },
  {
   "cell_type": "code",
   "execution_count": 248,
   "metadata": {},
   "outputs": [
    {
     "data": {
      "text/plain": [
       "matrix([[-3, -2, -1],\n",
       "        [ 1,  2,  3]])"
      ]
     },
     "execution_count": 248,
     "metadata": {},
     "output_type": "execute_result"
    }
   ],
   "source": [
    "a = np.matrix('-3 -2 -1;1 2 3')\n",
    "a"
   ]
  },
  {
   "cell_type": "code",
   "execution_count": 249,
   "metadata": {},
   "outputs": [
    {
     "data": {
      "text/plain": [
       "matrix([[0, 0, 0],\n",
       "        [1, 2, 3]])"
      ]
     },
     "execution_count": 249,
     "metadata": {},
     "output_type": "execute_result"
    }
   ],
   "source": [
    "a[a <1] = 0\n",
    "a"
   ]
  },
  {
   "cell_type": "code",
   "execution_count": 250,
   "metadata": {},
   "outputs": [
    {
     "data": {
      "text/plain": [
       "2"
      ]
     },
     "execution_count": 250,
     "metadata": {},
     "output_type": "execute_result"
    }
   ],
   "source": [
    "a[1,1]"
   ]
  },
  {
   "cell_type": "code",
   "execution_count": 251,
   "metadata": {},
   "outputs": [
    {
     "data": {
      "text/plain": [
       "matrix([[0, 0]])"
      ]
     },
     "execution_count": 251,
     "metadata": {},
     "output_type": "execute_result"
    }
   ],
   "source": [
    "a[:1, :-1]"
   ]
  },
  {
   "cell_type": "code",
   "execution_count": 252,
   "metadata": {},
   "outputs": [
    {
     "data": {
      "text/plain": [
       "(2, 3)"
      ]
     },
     "execution_count": 252,
     "metadata": {},
     "output_type": "execute_result"
    }
   ],
   "source": [
    "a.shape"
   ]
  },
  {
   "cell_type": "code",
   "execution_count": 253,
   "metadata": {},
   "outputs": [
    {
     "data": {
      "text/plain": [
       "(3, 2)"
      ]
     },
     "execution_count": 253,
     "metadata": {},
     "output_type": "execute_result"
    }
   ],
   "source": [
    "at=a.T\n",
    "np.shape(at)"
   ]
  },
  {
   "cell_type": "code",
   "execution_count": 254,
   "metadata": {},
   "outputs": [
    {
     "data": {
      "text/plain": [
       "array([[0, 3],\n",
       "       [1, 3],\n",
       "       [0, 2]])"
      ]
     },
     "execution_count": 254,
     "metadata": {},
     "output_type": "execute_result"
    }
   ],
   "source": [
    " u=np.random.randint(0, 4, (3,2))\n",
    "u\n",
    "    "
   ]
  },
  {
   "cell_type": "markdown",
   "metadata": {},
   "source": [
    "<b>Pandas!</b>"
   ]
  },
  {
   "cell_type": "code",
   "execution_count": 255,
   "metadata": {},
   "outputs": [
    {
     "data": {
      "text/plain": [
       "0     Matt\n",
       "1     Jack\n",
       "2    Nancy\n",
       "dtype: object"
      ]
     },
     "execution_count": 255,
     "metadata": {},
     "output_type": "execute_result"
    }
   ],
   "source": [
    "names = ['Matt', 'Jack', 'Nancy']\n",
    "pd.Series(names)"
   ]
  },
  {
   "cell_type": "code",
   "execution_count": 256,
   "metadata": {},
   "outputs": [
    {
     "data": {
      "text/plain": [
       "0    0\n",
       "1    3\n",
       "2    7\n",
       "dtype: int64"
      ]
     },
     "execution_count": 256,
     "metadata": {},
     "output_type": "execute_result"
    }
   ],
   "source": [
    "numbers = [0, 3,7]\n",
    "pd.Series(numbers)"
   ]
  },
  {
   "cell_type": "code",
   "execution_count": 257,
   "metadata": {},
   "outputs": [
    {
     "data": {
      "text/plain": [
       "student1     Matt\n",
       "student2     Jack\n",
       "student3    Nancy\n",
       "dtype: object"
      ]
     },
     "execution_count": 257,
     "metadata": {},
     "output_type": "execute_result"
    }
   ],
   "source": [
    "students={'student1':'Matt','student2':'Jack','student3':'Nancy'}\n",
    "pd.Series(students)"
   ]
  },
  {
   "cell_type": "code",
   "execution_count": 258,
   "metadata": {},
   "outputs": [
    {
     "data": {
      "text/plain": [
       "student1     Matt\n",
       "student2     Jack\n",
       "student3    Nancy\n",
       "dtype: object"
      ]
     },
     "execution_count": 258,
     "metadata": {},
     "output_type": "execute_result"
    }
   ],
   "source": [
    "u=pd.Series(names, index=['student1', 'student2', 'student3'])\n",
    "u"
   ]
  },
  {
   "cell_type": "code",
   "execution_count": 259,
   "metadata": {},
   "outputs": [
    {
     "data": {
      "text/plain": [
       "'Matt'"
      ]
     },
     "execution_count": 259,
     "metadata": {},
     "output_type": "execute_result"
    }
   ],
   "source": [
    "u.loc['student1']"
   ]
  },
  {
   "cell_type": "code",
   "execution_count": 260,
   "metadata": {},
   "outputs": [
    {
     "data": {
      "text/plain": [
       "'Nancy'"
      ]
     },
     "execution_count": 260,
     "metadata": {},
     "output_type": "execute_result"
    }
   ],
   "source": [
    "u.iloc[2]"
   ]
  },
  {
   "cell_type": "code",
   "execution_count": 261,
   "metadata": {},
   "outputs": [
    {
     "data": {
      "text/plain": [
       "3"
      ]
     },
     "execution_count": 261,
     "metadata": {},
     "output_type": "execute_result"
    }
   ],
   "source": [
    "np.size(u)"
   ]
  },
  {
   "cell_type": "code",
   "execution_count": 262,
   "metadata": {},
   "outputs": [
    {
     "data": {
      "text/plain": [
       "student1    100\n",
       "student2     89\n",
       "student3     90\n",
       "dtype: int64"
      ]
     },
     "execution_count": 262,
     "metadata": {},
     "output_type": "execute_result"
    }
   ],
   "source": [
    "u2=pd.Series([100,89,90], index=['student1', 'student2', 'student3'])\n",
    "u2"
   ]
  },
  {
   "cell_type": "code",
   "execution_count": 263,
   "metadata": {},
   "outputs": [
    {
     "data": {
      "text/plain": [
       "279"
      ]
     },
     "execution_count": 263,
     "metadata": {},
     "output_type": "execute_result"
    }
   ],
   "source": [
    "np.sum(u2)"
   ]
  },
  {
   "cell_type": "code",
   "execution_count": 1,
   "metadata": {},
   "outputs": [],
   "source": [
    "# Introduction to Data Frames and Data Wrangling"
   ]
  },
  {
   "cell_type": "code",
   "execution_count": 2,
   "metadata": {},
   "outputs": [],
   "source": [
    "#There is index and multiple columns of content, i.e., two dimensional series\n"
   ]
  },
  {
   "cell_type": "code",
   "execution_count": 17,
   "metadata": {},
   "outputs": [
    {
     "data": {
      "text/html": [
       "<div>\n",
       "<style scoped>\n",
       "    .dataframe tbody tr th:only-of-type {\n",
       "        vertical-align: middle;\n",
       "    }\n",
       "\n",
       "    .dataframe tbody tr th {\n",
       "        vertical-align: top;\n",
       "    }\n",
       "\n",
       "    .dataframe thead th {\n",
       "        text-align: right;\n",
       "    }\n",
       "</style>\n",
       "<table border=\"1\" class=\"dataframe\">\n",
       "  <thead>\n",
       "    <tr style=\"text-align: right;\">\n",
       "      <th></th>\n",
       "      <th>Name</th>\n",
       "      <th>Place of birth</th>\n",
       "      <th>Final score</th>\n",
       "    </tr>\n",
       "  </thead>\n",
       "  <tbody>\n",
       "    <tr>\n",
       "      <td>Course 1</td>\n",
       "      <td>Matt</td>\n",
       "      <td>Wisconsin</td>\n",
       "      <td>92</td>\n",
       "    </tr>\n",
       "    <tr>\n",
       "      <td>Course 2</td>\n",
       "      <td>Jack</td>\n",
       "      <td>Minnesota</td>\n",
       "      <td>88</td>\n",
       "    </tr>\n",
       "    <tr>\n",
       "      <td>Course 2</td>\n",
       "      <td>Nancy</td>\n",
       "      <td>Florida</td>\n",
       "      <td>84</td>\n",
       "    </tr>\n",
       "    <tr>\n",
       "      <td>Course 1</td>\n",
       "      <td>Nora</td>\n",
       "      <td>Wisconsin</td>\n",
       "      <td>87</td>\n",
       "    </tr>\n",
       "  </tbody>\n",
       "</table>\n",
       "</div>"
      ],
      "text/plain": [
       "           Name Place of birth  Final score\n",
       "Course 1   Matt      Wisconsin           92\n",
       "Course 2   Jack      Minnesota           88\n",
       "Course 2  Nancy        Florida           84\n",
       "Course 1   Nora      Wisconsin           87"
      ]
     },
     "execution_count": 17,
     "metadata": {},
     "output_type": "execute_result"
    }
   ],
   "source": [
    "import pandas as pd\n",
    "Course_details1 = pd.Series({'Name': 'Matt',\n",
    "                        'Place of birth': 'Wisconsin',\n",
    "                        'Final score': 92})\n",
    "Course_details2 = pd.Series({'Name': 'Jack',\n",
    "                        'Place of birth': 'Minnesota',\n",
    "                        'Final score': 88})\n",
    "Course_details3= pd.Series({'Name': 'Nancy',\n",
    "                        'Place of birth': 'Florida',\n",
    "                        'Final score': 84})\n",
    "Course_details4= pd.Series({'Name': 'Nora',\n",
    "                        'Place of birth': 'Wisconsin',\n",
    "                        'Final score': 87})\n",
    "df = pd.DataFrame([Course_details1, Course_details2, Course_details3, Course_details4], index=['Course 1', 'Course 2', 'Course 2', 'Course 1'])\n",
    "df.head()"
   ]
  },
  {
   "cell_type": "code",
   "execution_count": 18,
   "metadata": {},
   "outputs": [
    {
     "data": {
      "text/html": [
       "<div>\n",
       "<style scoped>\n",
       "    .dataframe tbody tr th:only-of-type {\n",
       "        vertical-align: middle;\n",
       "    }\n",
       "\n",
       "    .dataframe tbody tr th {\n",
       "        vertical-align: top;\n",
       "    }\n",
       "\n",
       "    .dataframe thead th {\n",
       "        text-align: right;\n",
       "    }\n",
       "</style>\n",
       "<table border=\"1\" class=\"dataframe\">\n",
       "  <thead>\n",
       "    <tr style=\"text-align: right;\">\n",
       "      <th></th>\n",
       "      <th>Name</th>\n",
       "      <th>Place of birth</th>\n",
       "      <th>Final score</th>\n",
       "    </tr>\n",
       "  </thead>\n",
       "  <tbody>\n",
       "    <tr>\n",
       "      <td>Course 1</td>\n",
       "      <td>Matt</td>\n",
       "      <td>Wisconsin</td>\n",
       "      <td>92</td>\n",
       "    </tr>\n",
       "    <tr>\n",
       "      <td>Course 1</td>\n",
       "      <td>Nora</td>\n",
       "      <td>Wisconsin</td>\n",
       "      <td>87</td>\n",
       "    </tr>\n",
       "  </tbody>\n",
       "</table>\n",
       "</div>"
      ],
      "text/plain": [
       "          Name Place of birth  Final score\n",
       "Course 1  Matt      Wisconsin           92\n",
       "Course 1  Nora      Wisconsin           87"
      ]
     },
     "execution_count": 18,
     "metadata": {},
     "output_type": "execute_result"
    }
   ],
   "source": [
    "df.loc['Course 1']\n"
   ]
  },
  {
   "cell_type": "code",
   "execution_count": 19,
   "metadata": {},
   "outputs": [
    {
     "data": {
      "text/html": [
       "<div>\n",
       "<style scoped>\n",
       "    .dataframe tbody tr th:only-of-type {\n",
       "        vertical-align: middle;\n",
       "    }\n",
       "\n",
       "    .dataframe tbody tr th {\n",
       "        vertical-align: top;\n",
       "    }\n",
       "\n",
       "    .dataframe thead th {\n",
       "        text-align: right;\n",
       "    }\n",
       "</style>\n",
       "<table border=\"1\" class=\"dataframe\">\n",
       "  <thead>\n",
       "    <tr style=\"text-align: right;\">\n",
       "      <th></th>\n",
       "      <th>Name</th>\n",
       "      <th>Place of birth</th>\n",
       "      <th>Final score</th>\n",
       "    </tr>\n",
       "  </thead>\n",
       "  <tbody>\n",
       "    <tr>\n",
       "      <td>Course 2</td>\n",
       "      <td>Jack</td>\n",
       "      <td>Minnesota</td>\n",
       "      <td>88</td>\n",
       "    </tr>\n",
       "    <tr>\n",
       "      <td>Course 2</td>\n",
       "      <td>Nancy</td>\n",
       "      <td>Florida</td>\n",
       "      <td>84</td>\n",
       "    </tr>\n",
       "  </tbody>\n",
       "</table>\n",
       "</div>"
      ],
      "text/plain": [
       "           Name Place of birth  Final score\n",
       "Course 2   Jack      Minnesota           88\n",
       "Course 2  Nancy        Florida           84"
      ]
     },
     "execution_count": 19,
     "metadata": {},
     "output_type": "execute_result"
    }
   ],
   "source": [
    "df.loc['Course 2']\n"
   ]
  },
  {
   "cell_type": "code",
   "execution_count": 20,
   "metadata": {},
   "outputs": [
    {
     "data": {
      "text/plain": [
       "Course 2    Minnesota\n",
       "Course 2      Florida\n",
       "Name: Place of birth, dtype: object"
      ]
     },
     "execution_count": 20,
     "metadata": {},
     "output_type": "execute_result"
    }
   ],
   "source": [
    "df.loc['Course 2', 'Place of birth']"
   ]
  },
  {
   "cell_type": "code",
   "execution_count": 21,
   "metadata": {},
   "outputs": [
    {
     "data": {
      "text/html": [
       "<div>\n",
       "<style scoped>\n",
       "    .dataframe tbody tr th:only-of-type {\n",
       "        vertical-align: middle;\n",
       "    }\n",
       "\n",
       "    .dataframe tbody tr th {\n",
       "        vertical-align: top;\n",
       "    }\n",
       "\n",
       "    .dataframe thead th {\n",
       "        text-align: right;\n",
       "    }\n",
       "</style>\n",
       "<table border=\"1\" class=\"dataframe\">\n",
       "  <thead>\n",
       "    <tr style=\"text-align: right;\">\n",
       "      <th></th>\n",
       "      <th>Course 1</th>\n",
       "      <th>Course 2</th>\n",
       "      <th>Course 2</th>\n",
       "      <th>Course 1</th>\n",
       "    </tr>\n",
       "  </thead>\n",
       "  <tbody>\n",
       "    <tr>\n",
       "      <td>Name</td>\n",
       "      <td>Matt</td>\n",
       "      <td>Jack</td>\n",
       "      <td>Nancy</td>\n",
       "      <td>Nora</td>\n",
       "    </tr>\n",
       "    <tr>\n",
       "      <td>Place of birth</td>\n",
       "      <td>Wisconsin</td>\n",
       "      <td>Minnesota</td>\n",
       "      <td>Florida</td>\n",
       "      <td>Wisconsin</td>\n",
       "    </tr>\n",
       "    <tr>\n",
       "      <td>Final score</td>\n",
       "      <td>92</td>\n",
       "      <td>88</td>\n",
       "      <td>84</td>\n",
       "      <td>87</td>\n",
       "    </tr>\n",
       "  </tbody>\n",
       "</table>\n",
       "</div>"
      ],
      "text/plain": [
       "                 Course 1   Course 2 Course 2   Course 1\n",
       "Name                 Matt       Jack    Nancy       Nora\n",
       "Place of birth  Wisconsin  Minnesota  Florida  Wisconsin\n",
       "Final score            92         88       84         87"
      ]
     },
     "execution_count": 21,
     "metadata": {},
     "output_type": "execute_result"
    }
   ],
   "source": [
    "df.T"
   ]
  },
  {
   "cell_type": "code",
   "execution_count": 22,
   "metadata": {},
   "outputs": [
    {
     "data": {
      "text/plain": [
       "Course 2    88\n",
       "Course 2    84\n",
       "Name: Final score, dtype: int64"
      ]
     },
     "execution_count": 22,
     "metadata": {},
     "output_type": "execute_result"
    }
   ],
   "source": [
    "df.loc['Course 2']['Final score']"
   ]
  },
  {
   "cell_type": "code",
   "execution_count": 23,
   "metadata": {},
   "outputs": [
    {
     "data": {
      "text/plain": [
       "Course 2    88\n",
       "Course 2    84\n",
       "Name: Final score, dtype: int64"
      ]
     },
     "execution_count": 23,
     "metadata": {},
     "output_type": "execute_result"
    }
   ],
   "source": [
    "df.loc['Course 2','Final score']"
   ]
  },
  {
   "cell_type": "code",
   "execution_count": null,
   "metadata": {},
   "outputs": [],
   "source": [
    "#It is good to copy the the dataframe before making changes"
   ]
  },
  {
   "cell_type": "code",
   "execution_count": 25,
   "metadata": {},
   "outputs": [
    {
     "data": {
      "text/html": [
       "<div>\n",
       "<style scoped>\n",
       "    .dataframe tbody tr th:only-of-type {\n",
       "        vertical-align: middle;\n",
       "    }\n",
       "\n",
       "    .dataframe tbody tr th {\n",
       "        vertical-align: top;\n",
       "    }\n",
       "\n",
       "    .dataframe thead th {\n",
       "        text-align: right;\n",
       "    }\n",
       "</style>\n",
       "<table border=\"1\" class=\"dataframe\">\n",
       "  <thead>\n",
       "    <tr style=\"text-align: right;\">\n",
       "      <th></th>\n",
       "      <th>Name</th>\n",
       "      <th>Place of birth</th>\n",
       "      <th>Final score</th>\n",
       "    </tr>\n",
       "  </thead>\n",
       "  <tbody>\n",
       "    <tr>\n",
       "      <td>Course 1</td>\n",
       "      <td>Matt</td>\n",
       "      <td>Wisconsin</td>\n",
       "      <td>92</td>\n",
       "    </tr>\n",
       "    <tr>\n",
       "      <td>Course 1</td>\n",
       "      <td>Nora</td>\n",
       "      <td>Wisconsin</td>\n",
       "      <td>87</td>\n",
       "    </tr>\n",
       "  </tbody>\n",
       "</table>\n",
       "</div>"
      ],
      "text/plain": [
       "          Name Place of birth  Final score\n",
       "Course 1  Matt      Wisconsin           92\n",
       "Course 1  Nora      Wisconsin           87"
      ]
     },
     "execution_count": 25,
     "metadata": {},
     "output_type": "execute_result"
    }
   ],
   "source": [
    "copy_df = df.copy()\n",
    "copy_df.drop('Course 2')"
   ]
  },
  {
   "cell_type": "code",
   "execution_count": 27,
   "metadata": {},
   "outputs": [
    {
     "data": {
      "text/plain": [
       "Course 1     True\n",
       "Course 2     True\n",
       "Course 2    False\n",
       "Course 1     True\n",
       "Name: Final score, dtype: bool"
      ]
     },
     "execution_count": 27,
     "metadata": {},
     "output_type": "execute_result"
    }
   ],
   "source": [
    "df['Final score'] > 85"
   ]
  },
  {
   "cell_type": "code",
   "execution_count": 36,
   "metadata": {},
   "outputs": [
    {
     "data": {
      "text/html": [
       "<div>\n",
       "<style scoped>\n",
       "    .dataframe tbody tr th:only-of-type {\n",
       "        vertical-align: middle;\n",
       "    }\n",
       "\n",
       "    .dataframe tbody tr th {\n",
       "        vertical-align: top;\n",
       "    }\n",
       "\n",
       "    .dataframe thead th {\n",
       "        text-align: right;\n",
       "    }\n",
       "</style>\n",
       "<table border=\"1\" class=\"dataframe\">\n",
       "  <thead>\n",
       "    <tr style=\"text-align: right;\">\n",
       "      <th></th>\n",
       "      <th>Name</th>\n",
       "      <th>Place of birth</th>\n",
       "      <th>Final score</th>\n",
       "    </tr>\n",
       "  </thead>\n",
       "  <tbody>\n",
       "    <tr>\n",
       "      <td>Course 1</td>\n",
       "      <td>Matt</td>\n",
       "      <td>Wisconsin</td>\n",
       "      <td>92.0</td>\n",
       "    </tr>\n",
       "    <tr>\n",
       "      <td>Course 2</td>\n",
       "      <td>Jack</td>\n",
       "      <td>Minnesota</td>\n",
       "      <td>88.0</td>\n",
       "    </tr>\n",
       "    <tr>\n",
       "      <td>Course 2</td>\n",
       "      <td>NaN</td>\n",
       "      <td>NaN</td>\n",
       "      <td>NaN</td>\n",
       "    </tr>\n",
       "    <tr>\n",
       "      <td>Course 1</td>\n",
       "      <td>Nora</td>\n",
       "      <td>Wisconsin</td>\n",
       "      <td>87.0</td>\n",
       "    </tr>\n",
       "  </tbody>\n",
       "</table>\n",
       "</div>"
      ],
      "text/plain": [
       "          Name Place of birth  Final score\n",
       "Course 1  Matt      Wisconsin         92.0\n",
       "Course 2  Jack      Minnesota         88.0\n",
       "Course 2   NaN            NaN          NaN\n",
       "Course 1  Nora      Wisconsin         87.0"
      ]
     },
     "execution_count": 36,
     "metadata": {},
     "output_type": "execute_result"
    }
   ],
   "source": [
    "top_class= df.where(df['Final score']>85)\n",
    "top_class"
   ]
  },
  {
   "cell_type": "code",
   "execution_count": 35,
   "metadata": {},
   "outputs": [
    {
     "data": {
      "text/plain": [
       "3"
      ]
     },
     "execution_count": 35,
     "metadata": {},
     "output_type": "execute_result"
    }
   ],
   "source": [
    "top_class['Final score'].count()"
   ]
  },
  {
   "cell_type": "code",
   "execution_count": 37,
   "metadata": {},
   "outputs": [
    {
     "data": {
      "text/html": [
       "<div>\n",
       "<style scoped>\n",
       "    .dataframe tbody tr th:only-of-type {\n",
       "        vertical-align: middle;\n",
       "    }\n",
       "\n",
       "    .dataframe tbody tr th {\n",
       "        vertical-align: top;\n",
       "    }\n",
       "\n",
       "    .dataframe thead th {\n",
       "        text-align: right;\n",
       "    }\n",
       "</style>\n",
       "<table border=\"1\" class=\"dataframe\">\n",
       "  <thead>\n",
       "    <tr style=\"text-align: right;\">\n",
       "      <th></th>\n",
       "      <th>Name</th>\n",
       "      <th>Place of birth</th>\n",
       "      <th>Final score</th>\n",
       "    </tr>\n",
       "  </thead>\n",
       "  <tbody>\n",
       "    <tr>\n",
       "      <td>Course 2</td>\n",
       "      <td>Jack</td>\n",
       "      <td>Minnesota</td>\n",
       "      <td>88</td>\n",
       "    </tr>\n",
       "    <tr>\n",
       "      <td>Course 1</td>\n",
       "      <td>Nora</td>\n",
       "      <td>Wisconsin</td>\n",
       "      <td>87</td>\n",
       "    </tr>\n",
       "  </tbody>\n",
       "</table>\n",
       "</div>"
      ],
      "text/plain": [
       "          Name Place of birth  Final score\n",
       "Course 2  Jack      Minnesota           88\n",
       "Course 1  Nora      Wisconsin           87"
      ]
     },
     "execution_count": 37,
     "metadata": {},
     "output_type": "execute_result"
    }
   ],
   "source": [
    "df[(df['Final score'] > 85) & (df['Final score'] < 91)]"
   ]
  },
  {
   "cell_type": "code",
   "execution_count": 30,
   "metadata": {},
   "outputs": [
    {
     "data": {
      "text/html": [
       "<div>\n",
       "<style scoped>\n",
       "    .dataframe tbody tr th:only-of-type {\n",
       "        vertical-align: middle;\n",
       "    }\n",
       "\n",
       "    .dataframe tbody tr th {\n",
       "        vertical-align: top;\n",
       "    }\n",
       "\n",
       "    .dataframe thead th {\n",
       "        text-align: right;\n",
       "    }\n",
       "</style>\n",
       "<table border=\"1\" class=\"dataframe\">\n",
       "  <thead>\n",
       "    <tr style=\"text-align: right;\">\n",
       "      <th></th>\n",
       "      <th>Petals</th>\n",
       "      <th>Name</th>\n",
       "      <th>Color</th>\n",
       "    </tr>\n",
       "  </thead>\n",
       "  <tbody>\n",
       "    <tr>\n",
       "      <td>0</td>\n",
       "      <td>8</td>\n",
       "      <td>lotus</td>\n",
       "      <td>pink</td>\n",
       "    </tr>\n",
       "    <tr>\n",
       "      <td>1</td>\n",
       "      <td>34</td>\n",
       "      <td>sunflower</td>\n",
       "      <td>yellow</td>\n",
       "    </tr>\n",
       "    <tr>\n",
       "      <td>2</td>\n",
       "      <td>5</td>\n",
       "      <td>rose</td>\n",
       "      <td>red</td>\n",
       "    </tr>\n",
       "  </tbody>\n",
       "</table>\n",
       "</div>"
      ],
      "text/plain": [
       "   Petals       Name   Color\n",
       "0       8      lotus    pink\n",
       "1      34  sunflower  yellow\n",
       "2       5       rose     red"
      ]
     },
     "execution_count": 30,
     "metadata": {},
     "output_type": "execute_result"
    }
   ],
   "source": [
    "pd.read_csv('flowers.csv')"
   ]
  },
  {
   "cell_type": "code",
   "execution_count": 41,
   "metadata": {},
   "outputs": [],
   "source": [
    "#let's do some operations\n",
    "flowers = pd.read_csv('flowers.csv')"
   ]
  },
  {
   "cell_type": "code",
   "execution_count": 42,
   "metadata": {},
   "outputs": [
    {
     "data": {
      "text/html": [
       "<div>\n",
       "<style scoped>\n",
       "    .dataframe tbody tr th:only-of-type {\n",
       "        vertical-align: middle;\n",
       "    }\n",
       "\n",
       "    .dataframe tbody tr th {\n",
       "        vertical-align: top;\n",
       "    }\n",
       "\n",
       "    .dataframe thead th {\n",
       "        text-align: right;\n",
       "    }\n",
       "</style>\n",
       "<table border=\"1\" class=\"dataframe\">\n",
       "  <thead>\n",
       "    <tr style=\"text-align: right;\">\n",
       "      <th></th>\n",
       "      <th>Petals</th>\n",
       "      <th>Name</th>\n",
       "      <th>Color</th>\n",
       "    </tr>\n",
       "  </thead>\n",
       "  <tbody>\n",
       "    <tr>\n",
       "      <td>0</td>\n",
       "      <td>8</td>\n",
       "      <td>lotus</td>\n",
       "      <td>pink</td>\n",
       "    </tr>\n",
       "    <tr>\n",
       "      <td>1</td>\n",
       "      <td>34</td>\n",
       "      <td>sunflower</td>\n",
       "      <td>yellow</td>\n",
       "    </tr>\n",
       "    <tr>\n",
       "      <td>2</td>\n",
       "      <td>5</td>\n",
       "      <td>rose</td>\n",
       "      <td>red</td>\n",
       "    </tr>\n",
       "  </tbody>\n",
       "</table>\n",
       "</div>"
      ],
      "text/plain": [
       "   Petals       Name   Color\n",
       "0       8      lotus    pink\n",
       "1      34  sunflower  yellow\n",
       "2       5       rose     red"
      ]
     },
     "execution_count": 42,
     "metadata": {},
     "output_type": "execute_result"
    }
   ],
   "source": [
    "flowers"
   ]
  },
  {
   "cell_type": "code",
   "execution_count": 43,
   "metadata": {},
   "outputs": [
    {
     "data": {
      "text/plain": [
       "0     8\n",
       "1    34\n",
       "2     5\n",
       "Name: Petals, dtype: int64"
      ]
     },
     "execution_count": 43,
     "metadata": {},
     "output_type": "execute_result"
    }
   ],
   "source": [
    "flowers['Petals']"
   ]
  },
  {
   "cell_type": "code",
   "execution_count": 45,
   "metadata": {},
   "outputs": [
    {
     "data": {
      "text/html": [
       "<div>\n",
       "<style scoped>\n",
       "    .dataframe tbody tr th:only-of-type {\n",
       "        vertical-align: middle;\n",
       "    }\n",
       "\n",
       "    .dataframe tbody tr th {\n",
       "        vertical-align: top;\n",
       "    }\n",
       "\n",
       "    .dataframe thead th {\n",
       "        text-align: right;\n",
       "    }\n",
       "</style>\n",
       "<table border=\"1\" class=\"dataframe\">\n",
       "  <thead>\n",
       "    <tr style=\"text-align: right;\">\n",
       "      <th></th>\n",
       "      <th>Petals</th>\n",
       "      <th>Name</th>\n",
       "      <th>Color</th>\n",
       "    </tr>\n",
       "  </thead>\n",
       "  <tbody>\n",
       "    <tr>\n",
       "      <td>0</td>\n",
       "      <td>8</td>\n",
       "      <td>lotus</td>\n",
       "      <td>pink</td>\n",
       "    </tr>\n",
       "    <tr>\n",
       "      <td>1</td>\n",
       "      <td>34</td>\n",
       "      <td>sunflower</td>\n",
       "      <td>yellow</td>\n",
       "    </tr>\n",
       "    <tr>\n",
       "      <td>2</td>\n",
       "      <td>5</td>\n",
       "      <td>rose</td>\n",
       "      <td>red</td>\n",
       "    </tr>\n",
       "  </tbody>\n",
       "</table>\n",
       "</div>"
      ],
      "text/plain": [
       "   Petals       Name   Color\n",
       "0       8      lotus    pink\n",
       "1      34  sunflower  yellow\n",
       "2       5       rose     red"
      ]
     },
     "execution_count": 45,
     "metadata": {},
     "output_type": "execute_result"
    }
   ],
   "source": [
    "type(flowers)"
   ]
  },
  {
   "cell_type": "code",
   "execution_count": 47,
   "metadata": {},
   "outputs": [],
   "source": [
    "petals = flowers.get('Petals')"
   ]
  },
  {
   "cell_type": "code",
   "execution_count": 48,
   "metadata": {},
   "outputs": [
    {
     "data": {
      "text/plain": [
       "0     8\n",
       "1    34\n",
       "2     5\n",
       "Name: Petals, dtype: int64"
      ]
     },
     "execution_count": 48,
     "metadata": {},
     "output_type": "execute_result"
    }
   ],
   "source": [
    "petals"
   ]
  },
  {
   "cell_type": "code",
   "execution_count": 52,
   "metadata": {},
   "outputs": [
    {
     "data": {
      "text/html": [
       "<div>\n",
       "<style scoped>\n",
       "    .dataframe tbody tr th:only-of-type {\n",
       "        vertical-align: middle;\n",
       "    }\n",
       "\n",
       "    .dataframe tbody tr th {\n",
       "        vertical-align: top;\n",
       "    }\n",
       "\n",
       "    .dataframe thead th {\n",
       "        text-align: right;\n",
       "    }\n",
       "</style>\n",
       "<table border=\"1\" class=\"dataframe\">\n",
       "  <thead>\n",
       "    <tr style=\"text-align: right;\">\n",
       "      <th></th>\n",
       "      <th>Petals</th>\n",
       "      <th>Name</th>\n",
       "    </tr>\n",
       "  </thead>\n",
       "  <tbody>\n",
       "    <tr>\n",
       "      <td>0</td>\n",
       "      <td>8</td>\n",
       "      <td>lotus</td>\n",
       "    </tr>\n",
       "    <tr>\n",
       "      <td>1</td>\n",
       "      <td>34</td>\n",
       "      <td>sunflower</td>\n",
       "    </tr>\n",
       "    <tr>\n",
       "      <td>2</td>\n",
       "      <td>5</td>\n",
       "      <td>rose</td>\n",
       "    </tr>\n",
       "  </tbody>\n",
       "</table>\n",
       "</div>"
      ],
      "text/plain": [
       "   Petals       Name\n",
       "0       8      lotus\n",
       "1      34  sunflower\n",
       "2       5       rose"
      ]
     },
     "execution_count": 52,
     "metadata": {},
     "output_type": "execute_result"
    }
   ],
   "source": [
    "df2=flowers.drop(['Color'],axis=1)\n",
    "df2"
   ]
  },
  {
   "cell_type": "code",
   "execution_count": 50,
   "metadata": {},
   "outputs": [
    {
     "data": {
      "text/html": [
       "<div>\n",
       "<style scoped>\n",
       "    .dataframe tbody tr th:only-of-type {\n",
       "        vertical-align: middle;\n",
       "    }\n",
       "\n",
       "    .dataframe tbody tr th {\n",
       "        vertical-align: top;\n",
       "    }\n",
       "\n",
       "    .dataframe thead th {\n",
       "        text-align: right;\n",
       "    }\n",
       "</style>\n",
       "<table border=\"1\" class=\"dataframe\">\n",
       "  <thead>\n",
       "    <tr style=\"text-align: right;\">\n",
       "      <th></th>\n",
       "      <th>Petals</th>\n",
       "      <th>Name</th>\n",
       "      <th>Color</th>\n",
       "    </tr>\n",
       "  </thead>\n",
       "  <tbody>\n",
       "    <tr>\n",
       "      <td>0</td>\n",
       "      <td>8</td>\n",
       "      <td>lotus</td>\n",
       "      <td>pink</td>\n",
       "    </tr>\n",
       "    <tr>\n",
       "      <td>1</td>\n",
       "      <td>34</td>\n",
       "      <td>sunflower</td>\n",
       "      <td>yellow</td>\n",
       "    </tr>\n",
       "    <tr>\n",
       "      <td>2</td>\n",
       "      <td>5</td>\n",
       "      <td>rose</td>\n",
       "      <td>red</td>\n",
       "    </tr>\n",
       "  </tbody>\n",
       "</table>\n",
       "</div>"
      ],
      "text/plain": [
       "   Petals       Name   Color\n",
       "0       8      lotus    pink\n",
       "1      34  sunflower  yellow\n",
       "2       5       rose     red"
      ]
     },
     "execution_count": 50,
     "metadata": {},
     "output_type": "execute_result"
    }
   ],
   "source": [
    "flowers"
   ]
  },
  {
   "cell_type": "code",
   "execution_count": 4,
   "metadata": {},
   "outputs": [],
   "source": [
    "movies = pd.read_csv('top_movies_by_title.csv')"
   ]
  },
  {
   "cell_type": "code",
   "execution_count": 5,
   "metadata": {},
   "outputs": [
    {
     "data": {
      "text/html": [
       "<div>\n",
       "<style scoped>\n",
       "    .dataframe tbody tr th:only-of-type {\n",
       "        vertical-align: middle;\n",
       "    }\n",
       "\n",
       "    .dataframe tbody tr th {\n",
       "        vertical-align: top;\n",
       "    }\n",
       "\n",
       "    .dataframe thead th {\n",
       "        text-align: right;\n",
       "    }\n",
       "</style>\n",
       "<table border=\"1\" class=\"dataframe\">\n",
       "  <thead>\n",
       "    <tr style=\"text-align: right;\">\n",
       "      <th></th>\n",
       "      <th>Title</th>\n",
       "      <th>Studio</th>\n",
       "      <th>Gross</th>\n",
       "      <th>Gross (Adjusted)</th>\n",
       "      <th>Year</th>\n",
       "    </tr>\n",
       "  </thead>\n",
       "  <tbody>\n",
       "    <tr>\n",
       "      <td>0</td>\n",
       "      <td>101 Dalmatians</td>\n",
       "      <td>Disney</td>\n",
       "      <td>144880014</td>\n",
       "      <td>869280100</td>\n",
       "      <td>1961</td>\n",
       "    </tr>\n",
       "    <tr>\n",
       "      <td>1</td>\n",
       "      <td>2001: A Space Odyssey</td>\n",
       "      <td>MGM</td>\n",
       "      <td>56954992</td>\n",
       "      <td>377027700</td>\n",
       "      <td>1968</td>\n",
       "    </tr>\n",
       "    <tr>\n",
       "      <td>2</td>\n",
       "      <td>9 to 5</td>\n",
       "      <td>Fox</td>\n",
       "      <td>103290500</td>\n",
       "      <td>334062200</td>\n",
       "      <td>1980</td>\n",
       "    </tr>\n",
       "    <tr>\n",
       "      <td>3</td>\n",
       "      <td>A Star Is Born (1976)</td>\n",
       "      <td>Warner Bros.</td>\n",
       "      <td>80000000</td>\n",
       "      <td>326760600</td>\n",
       "      <td>1976</td>\n",
       "    </tr>\n",
       "    <tr>\n",
       "      <td>4</td>\n",
       "      <td>Air Force One</td>\n",
       "      <td>Sony</td>\n",
       "      <td>172956409</td>\n",
       "      <td>327752300</td>\n",
       "      <td>1997</td>\n",
       "    </tr>\n",
       "    <tr>\n",
       "      <td>...</td>\n",
       "      <td>...</td>\n",
       "      <td>...</td>\n",
       "      <td>...</td>\n",
       "      <td>...</td>\n",
       "      <td>...</td>\n",
       "    </tr>\n",
       "    <tr>\n",
       "      <td>195</td>\n",
       "      <td>Up</td>\n",
       "      <td>Buena Vista (Disney)</td>\n",
       "      <td>293004164</td>\n",
       "      <td>341681900</td>\n",
       "      <td>2009</td>\n",
       "    </tr>\n",
       "    <tr>\n",
       "      <td>196</td>\n",
       "      <td>West Side Story</td>\n",
       "      <td>MGM</td>\n",
       "      <td>43656822</td>\n",
       "      <td>486941500</td>\n",
       "      <td>1961</td>\n",
       "    </tr>\n",
       "    <tr>\n",
       "      <td>197</td>\n",
       "      <td>What's Up, Doc?</td>\n",
       "      <td>Warner Bros.</td>\n",
       "      <td>66000000</td>\n",
       "      <td>337764700</td>\n",
       "      <td>1972</td>\n",
       "    </tr>\n",
       "    <tr>\n",
       "      <td>198</td>\n",
       "      <td>Who Framed Roger Rabbit</td>\n",
       "      <td>Buena Vista (Disney)</td>\n",
       "      <td>156452370</td>\n",
       "      <td>331176600</td>\n",
       "      <td>1988</td>\n",
       "    </tr>\n",
       "    <tr>\n",
       "      <td>199</td>\n",
       "      <td>Young Frankenstein</td>\n",
       "      <td>Fox</td>\n",
       "      <td>86273333</td>\n",
       "      <td>397131200</td>\n",
       "      <td>1974</td>\n",
       "    </tr>\n",
       "  </tbody>\n",
       "</table>\n",
       "<p>200 rows × 5 columns</p>\n",
       "</div>"
      ],
      "text/plain": [
       "                       Title                Studio      Gross  \\\n",
       "0             101 Dalmatians                Disney  144880014   \n",
       "1      2001: A Space Odyssey                   MGM   56954992   \n",
       "2                     9 to 5                   Fox  103290500   \n",
       "3      A Star Is Born (1976)          Warner Bros.   80000000   \n",
       "4              Air Force One                  Sony  172956409   \n",
       "..                       ...                   ...        ...   \n",
       "195                       Up  Buena Vista (Disney)  293004164   \n",
       "196          West Side Story                   MGM   43656822   \n",
       "197          What's Up, Doc?          Warner Bros.   66000000   \n",
       "198  Who Framed Roger Rabbit  Buena Vista (Disney)  156452370   \n",
       "199       Young Frankenstein                   Fox   86273333   \n",
       "\n",
       "     Gross (Adjusted)  Year  \n",
       "0           869280100  1961  \n",
       "1           377027700  1968  \n",
       "2           334062200  1980  \n",
       "3           326760600  1976  \n",
       "4           327752300  1997  \n",
       "..                ...   ...  \n",
       "195         341681900  2009  \n",
       "196         486941500  1961  \n",
       "197         337764700  1972  \n",
       "198         331176600  1988  \n",
       "199         397131200  1974  \n",
       "\n",
       "[200 rows x 5 columns]"
      ]
     },
     "execution_count": 5,
     "metadata": {},
     "output_type": "execute_result"
    }
   ],
   "source": [
    "movies"
   ]
  },
  {
   "cell_type": "code",
   "execution_count": 6,
   "metadata": {},
   "outputs": [
    {
     "data": {
      "text/html": [
       "<div>\n",
       "<style scoped>\n",
       "    .dataframe tbody tr th:only-of-type {\n",
       "        vertical-align: middle;\n",
       "    }\n",
       "\n",
       "    .dataframe tbody tr th {\n",
       "        vertical-align: top;\n",
       "    }\n",
       "\n",
       "    .dataframe thead th {\n",
       "        text-align: right;\n",
       "    }\n",
       "</style>\n",
       "<table border=\"1\" class=\"dataframe\">\n",
       "  <thead>\n",
       "    <tr style=\"text-align: right;\">\n",
       "      <th></th>\n",
       "      <th>Title</th>\n",
       "      <th>Studio</th>\n",
       "      <th>Gross</th>\n",
       "      <th>Gross (Adjusted)</th>\n",
       "      <th>Year</th>\n",
       "    </tr>\n",
       "  </thead>\n",
       "  <tbody>\n",
       "    <tr>\n",
       "      <td>153</td>\n",
       "      <td>The Four Horsemen of the Apocalypse</td>\n",
       "      <td>MPC</td>\n",
       "      <td>9183673</td>\n",
       "      <td>399489800</td>\n",
       "      <td>1921</td>\n",
       "    </tr>\n",
       "    <tr>\n",
       "      <td>129</td>\n",
       "      <td>Snow White and the Seven Dwarfs</td>\n",
       "      <td>Disney</td>\n",
       "      <td>184925486</td>\n",
       "      <td>948300000</td>\n",
       "      <td>1937</td>\n",
       "    </tr>\n",
       "    <tr>\n",
       "      <td>51</td>\n",
       "      <td>Gone with the Wind</td>\n",
       "      <td>MGM</td>\n",
       "      <td>198676459</td>\n",
       "      <td>1757788200</td>\n",
       "      <td>1939</td>\n",
       "    </tr>\n",
       "    <tr>\n",
       "      <td>103</td>\n",
       "      <td>Pinocchio</td>\n",
       "      <td>Disney</td>\n",
       "      <td>84254167</td>\n",
       "      <td>586409000</td>\n",
       "      <td>1940</td>\n",
       "    </tr>\n",
       "    <tr>\n",
       "      <td>121</td>\n",
       "      <td>Sergeant York</td>\n",
       "      <td>Warner Bros.</td>\n",
       "      <td>16361885</td>\n",
       "      <td>418671800</td>\n",
       "      <td>1941</td>\n",
       "    </tr>\n",
       "    <tr>\n",
       "      <td>...</td>\n",
       "      <td>...</td>\n",
       "      <td>...</td>\n",
       "      <td>...</td>\n",
       "      <td>...</td>\n",
       "      <td>...</td>\n",
       "    </tr>\n",
       "    <tr>\n",
       "      <td>47</td>\n",
       "      <td>Furious 7</td>\n",
       "      <td>Universal</td>\n",
       "      <td>353007020</td>\n",
       "      <td>356907000</td>\n",
       "      <td>2015</td>\n",
       "    </tr>\n",
       "    <tr>\n",
       "      <td>78</td>\n",
       "      <td>Jurassic World</td>\n",
       "      <td>Universal</td>\n",
       "      <td>652270625</td>\n",
       "      <td>687728000</td>\n",
       "      <td>2015</td>\n",
       "    </tr>\n",
       "    <tr>\n",
       "      <td>16</td>\n",
       "      <td>Avengers: Age of Ultron</td>\n",
       "      <td>Buena Vista (Disney)</td>\n",
       "      <td>459005868</td>\n",
       "      <td>465684200</td>\n",
       "      <td>2015</td>\n",
       "    </tr>\n",
       "    <tr>\n",
       "      <td>71</td>\n",
       "      <td>Inside Out</td>\n",
       "      <td>Buena Vista (Disney)</td>\n",
       "      <td>356461711</td>\n",
       "      <td>375723400</td>\n",
       "      <td>2015</td>\n",
       "    </tr>\n",
       "    <tr>\n",
       "      <td>90</td>\n",
       "      <td>Minions</td>\n",
       "      <td>Universal</td>\n",
       "      <td>336045770</td>\n",
       "      <td>354213900</td>\n",
       "      <td>2015</td>\n",
       "    </tr>\n",
       "  </tbody>\n",
       "</table>\n",
       "<p>200 rows × 5 columns</p>\n",
       "</div>"
      ],
      "text/plain": [
       "                                   Title                Studio      Gross  \\\n",
       "153  The Four Horsemen of the Apocalypse                   MPC    9183673   \n",
       "129      Snow White and the Seven Dwarfs                Disney  184925486   \n",
       "51                    Gone with the Wind                   MGM  198676459   \n",
       "103                            Pinocchio                Disney   84254167   \n",
       "121                        Sergeant York          Warner Bros.   16361885   \n",
       "..                                   ...                   ...        ...   \n",
       "47                             Furious 7             Universal  353007020   \n",
       "78                        Jurassic World             Universal  652270625   \n",
       "16               Avengers: Age of Ultron  Buena Vista (Disney)  459005868   \n",
       "71                            Inside Out  Buena Vista (Disney)  356461711   \n",
       "90                               Minions             Universal  336045770   \n",
       "\n",
       "     Gross (Adjusted)  Year  \n",
       "153         399489800  1921  \n",
       "129         948300000  1937  \n",
       "51         1757788200  1939  \n",
       "103         586409000  1940  \n",
       "121         418671800  1941  \n",
       "..                ...   ...  \n",
       "47          356907000  2015  \n",
       "78          687728000  2015  \n",
       "16          465684200  2015  \n",
       "71          375723400  2015  \n",
       "90          354213900  2015  \n",
       "\n",
       "[200 rows x 5 columns]"
      ]
     },
     "execution_count": 6,
     "metadata": {},
     "output_type": "execute_result"
    }
   ],
   "source": [
    "movies.sort_values('Year')"
   ]
  },
  {
   "cell_type": "code",
   "execution_count": 7,
   "metadata": {},
   "outputs": [
    {
     "data": {
      "text/html": [
       "<div>\n",
       "<style scoped>\n",
       "    .dataframe tbody tr th:only-of-type {\n",
       "        vertical-align: middle;\n",
       "    }\n",
       "\n",
       "    .dataframe tbody tr th {\n",
       "        vertical-align: top;\n",
       "    }\n",
       "\n",
       "    .dataframe thead th {\n",
       "        text-align: right;\n",
       "    }\n",
       "</style>\n",
       "<table border=\"1\" class=\"dataframe\">\n",
       "  <thead>\n",
       "    <tr style=\"text-align: right;\">\n",
       "      <th></th>\n",
       "      <th>Title</th>\n",
       "      <th>Studio</th>\n",
       "      <th>Gross</th>\n",
       "      <th>Gross (Adjusted)</th>\n",
       "      <th>Year</th>\n",
       "    </tr>\n",
       "  </thead>\n",
       "  <tbody>\n",
       "    <tr>\n",
       "      <td>0</td>\n",
       "      <td>101 Dalmatians</td>\n",
       "      <td>Disney</td>\n",
       "      <td>144880014</td>\n",
       "      <td>869280100</td>\n",
       "      <td>1961</td>\n",
       "    </tr>\n",
       "    <tr>\n",
       "      <td>1</td>\n",
       "      <td>2001: A Space Odyssey</td>\n",
       "      <td>MGM</td>\n",
       "      <td>56954992</td>\n",
       "      <td>377027700</td>\n",
       "      <td>1968</td>\n",
       "    </tr>\n",
       "    <tr>\n",
       "      <td>2</td>\n",
       "      <td>9 to 5</td>\n",
       "      <td>Fox</td>\n",
       "      <td>103290500</td>\n",
       "      <td>334062200</td>\n",
       "      <td>1980</td>\n",
       "    </tr>\n",
       "  </tbody>\n",
       "</table>\n",
       "</div>"
      ],
      "text/plain": [
       "                   Title  Studio      Gross  Gross (Adjusted)  Year\n",
       "0         101 Dalmatians  Disney  144880014         869280100  1961\n",
       "1  2001: A Space Odyssey     MGM   56954992         377027700  1968\n",
       "2                 9 to 5     Fox  103290500         334062200  1980"
      ]
     },
     "execution_count": 7,
     "metadata": {},
     "output_type": "execute_result"
    }
   ],
   "source": [
    "movies.head(3)"
   ]
  },
  {
   "cell_type": "code",
   "execution_count": 8,
   "metadata": {},
   "outputs": [
    {
     "data": {
      "text/plain": [
       "array(['Disney', 'MGM', 'Fox', 'Warner Bros.', 'Sony', 'Universal',\n",
       "       'Buena Vista (Disney)', 'Paramount', 'UA', 'New Line', 'RKO',\n",
       "       'Columbia', 'Orion', 'Selz.', 'IFC', 'TriS', 'Dreamworks',\n",
       "       'Paramount/Dreamworks', 'MPC', 'AVCO', 'Warner Bros. (New Line)',\n",
       "       'Lionsgate', 'NM', 'Sum.'], dtype=object)"
      ]
     },
     "execution_count": 8,
     "metadata": {},
     "output_type": "execute_result"
    }
   ],
   "source": [
    "movies['Studio'].unique()"
   ]
  },
  {
   "cell_type": "code",
   "execution_count": 9,
   "metadata": {},
   "outputs": [
    {
     "data": {
      "text/html": [
       "<div>\n",
       "<style scoped>\n",
       "    .dataframe tbody tr th:only-of-type {\n",
       "        vertical-align: middle;\n",
       "    }\n",
       "\n",
       "    .dataframe tbody tr th {\n",
       "        vertical-align: top;\n",
       "    }\n",
       "\n",
       "    .dataframe thead th {\n",
       "        text-align: right;\n",
       "    }\n",
       "</style>\n",
       "<table border=\"1\" class=\"dataframe\">\n",
       "  <thead>\n",
       "    <tr style=\"text-align: right;\">\n",
       "      <th></th>\n",
       "      <th>Title</th>\n",
       "      <th>Studio</th>\n",
       "      <th>Gross</th>\n",
       "      <th>Gross (Adjusted)</th>\n",
       "      <th>Year</th>\n",
       "    </tr>\n",
       "  </thead>\n",
       "  <tbody>\n",
       "    <tr>\n",
       "      <td>153</td>\n",
       "      <td>The Four Horsemen of the Apocalypse</td>\n",
       "      <td>MPC</td>\n",
       "      <td>9183673</td>\n",
       "      <td>399489800</td>\n",
       "      <td>1921</td>\n",
       "    </tr>\n",
       "    <tr>\n",
       "      <td>121</td>\n",
       "      <td>Sergeant York</td>\n",
       "      <td>Warner Bros.</td>\n",
       "      <td>16361885</td>\n",
       "      <td>418671800</td>\n",
       "      <td>1941</td>\n",
       "    </tr>\n",
       "    <tr>\n",
       "      <td>38</td>\n",
       "      <td>Duel in the Sun</td>\n",
       "      <td>Selz.</td>\n",
       "      <td>20408163</td>\n",
       "      <td>443877500</td>\n",
       "      <td>1946</td>\n",
       "    </tr>\n",
       "    <tr>\n",
       "      <td>143</td>\n",
       "      <td>The Bells of St. Mary's</td>\n",
       "      <td>RKO</td>\n",
       "      <td>21333333</td>\n",
       "      <td>545882400</td>\n",
       "      <td>1945</td>\n",
       "    </tr>\n",
       "    <tr>\n",
       "      <td>146</td>\n",
       "      <td>The Caine Mutiny</td>\n",
       "      <td>Columbia</td>\n",
       "      <td>21750000</td>\n",
       "      <td>386173500</td>\n",
       "      <td>1954</td>\n",
       "    </tr>\n",
       "    <tr>\n",
       "      <td>...</td>\n",
       "      <td>...</td>\n",
       "      <td>...</td>\n",
       "      <td>...</td>\n",
       "      <td>...</td>\n",
       "      <td>...</td>\n",
       "    </tr>\n",
       "    <tr>\n",
       "      <td>86</td>\n",
       "      <td>Marvel's The Avengers</td>\n",
       "      <td>Buena Vista (Disney)</td>\n",
       "      <td>623357910</td>\n",
       "      <td>668866600</td>\n",
       "      <td>2012</td>\n",
       "    </tr>\n",
       "    <tr>\n",
       "      <td>78</td>\n",
       "      <td>Jurassic World</td>\n",
       "      <td>Universal</td>\n",
       "      <td>652270625</td>\n",
       "      <td>687728000</td>\n",
       "      <td>2015</td>\n",
       "    </tr>\n",
       "    <tr>\n",
       "      <td>185</td>\n",
       "      <td>Titanic</td>\n",
       "      <td>Paramount</td>\n",
       "      <td>658672302</td>\n",
       "      <td>1178627900</td>\n",
       "      <td>1997</td>\n",
       "    </tr>\n",
       "    <tr>\n",
       "      <td>15</td>\n",
       "      <td>Avatar</td>\n",
       "      <td>Fox</td>\n",
       "      <td>760507625</td>\n",
       "      <td>846120800</td>\n",
       "      <td>2009</td>\n",
       "    </tr>\n",
       "    <tr>\n",
       "      <td>137</td>\n",
       "      <td>Star Wars: The Force Awakens</td>\n",
       "      <td>Buena Vista (Disney)</td>\n",
       "      <td>906723418</td>\n",
       "      <td>906723400</td>\n",
       "      <td>2015</td>\n",
       "    </tr>\n",
       "  </tbody>\n",
       "</table>\n",
       "<p>200 rows × 5 columns</p>\n",
       "</div>"
      ],
      "text/plain": [
       "                                   Title                Studio      Gross  \\\n",
       "153  The Four Horsemen of the Apocalypse                   MPC    9183673   \n",
       "121                        Sergeant York          Warner Bros.   16361885   \n",
       "38                       Duel in the Sun                 Selz.   20408163   \n",
       "143              The Bells of St. Mary's                   RKO   21333333   \n",
       "146                     The Caine Mutiny              Columbia   21750000   \n",
       "..                                   ...                   ...        ...   \n",
       "86                 Marvel's The Avengers  Buena Vista (Disney)  623357910   \n",
       "78                        Jurassic World             Universal  652270625   \n",
       "185                              Titanic             Paramount  658672302   \n",
       "15                                Avatar                   Fox  760507625   \n",
       "137         Star Wars: The Force Awakens  Buena Vista (Disney)  906723418   \n",
       "\n",
       "     Gross (Adjusted)  Year  \n",
       "153         399489800  1921  \n",
       "121         418671800  1941  \n",
       "38          443877500  1946  \n",
       "143         545882400  1945  \n",
       "146         386173500  1954  \n",
       "..                ...   ...  \n",
       "86          668866600  2012  \n",
       "78          687728000  2015  \n",
       "185        1178627900  1997  \n",
       "15          846120800  2009  \n",
       "137         906723400  2015  \n",
       "\n",
       "[200 rows x 5 columns]"
      ]
     },
     "execution_count": 9,
     "metadata": {},
     "output_type": "execute_result"
    }
   ],
   "source": [
    "movies.sort_values('Gross')"
   ]
  },
  {
   "cell_type": "code",
   "execution_count": 10,
   "metadata": {},
   "outputs": [
    {
     "data": {
      "text/html": [
       "<div>\n",
       "<style scoped>\n",
       "    .dataframe tbody tr th:only-of-type {\n",
       "        vertical-align: middle;\n",
       "    }\n",
       "\n",
       "    .dataframe tbody tr th {\n",
       "        vertical-align: top;\n",
       "    }\n",
       "\n",
       "    .dataframe thead th {\n",
       "        text-align: right;\n",
       "    }\n",
       "</style>\n",
       "<table border=\"1\" class=\"dataframe\">\n",
       "  <thead>\n",
       "    <tr style=\"text-align: right;\">\n",
       "      <th></th>\n",
       "      <th>Title</th>\n",
       "      <th>Studio</th>\n",
       "      <th>Gross</th>\n",
       "      <th>Gross (Adjusted)</th>\n",
       "      <th>Year</th>\n",
       "    </tr>\n",
       "  </thead>\n",
       "  <tbody>\n",
       "    <tr>\n",
       "      <td>137</td>\n",
       "      <td>Star Wars: The Force Awakens</td>\n",
       "      <td>Buena Vista (Disney)</td>\n",
       "      <td>906723418</td>\n",
       "      <td>906723400</td>\n",
       "      <td>2015</td>\n",
       "    </tr>\n",
       "    <tr>\n",
       "      <td>15</td>\n",
       "      <td>Avatar</td>\n",
       "      <td>Fox</td>\n",
       "      <td>760507625</td>\n",
       "      <td>846120800</td>\n",
       "      <td>2009</td>\n",
       "    </tr>\n",
       "    <tr>\n",
       "      <td>185</td>\n",
       "      <td>Titanic</td>\n",
       "      <td>Paramount</td>\n",
       "      <td>658672302</td>\n",
       "      <td>1178627900</td>\n",
       "      <td>1997</td>\n",
       "    </tr>\n",
       "    <tr>\n",
       "      <td>78</td>\n",
       "      <td>Jurassic World</td>\n",
       "      <td>Universal</td>\n",
       "      <td>652270625</td>\n",
       "      <td>687728000</td>\n",
       "      <td>2015</td>\n",
       "    </tr>\n",
       "    <tr>\n",
       "      <td>86</td>\n",
       "      <td>Marvel's The Avengers</td>\n",
       "      <td>Buena Vista (Disney)</td>\n",
       "      <td>623357910</td>\n",
       "      <td>668866600</td>\n",
       "      <td>2012</td>\n",
       "    </tr>\n",
       "    <tr>\n",
       "      <td>...</td>\n",
       "      <td>...</td>\n",
       "      <td>...</td>\n",
       "      <td>...</td>\n",
       "      <td>...</td>\n",
       "      <td>...</td>\n",
       "    </tr>\n",
       "    <tr>\n",
       "      <td>146</td>\n",
       "      <td>The Caine Mutiny</td>\n",
       "      <td>Columbia</td>\n",
       "      <td>21750000</td>\n",
       "      <td>386173500</td>\n",
       "      <td>1954</td>\n",
       "    </tr>\n",
       "    <tr>\n",
       "      <td>143</td>\n",
       "      <td>The Bells of St. Mary's</td>\n",
       "      <td>RKO</td>\n",
       "      <td>21333333</td>\n",
       "      <td>545882400</td>\n",
       "      <td>1945</td>\n",
       "    </tr>\n",
       "    <tr>\n",
       "      <td>38</td>\n",
       "      <td>Duel in the Sun</td>\n",
       "      <td>Selz.</td>\n",
       "      <td>20408163</td>\n",
       "      <td>443877500</td>\n",
       "      <td>1946</td>\n",
       "    </tr>\n",
       "    <tr>\n",
       "      <td>121</td>\n",
       "      <td>Sergeant York</td>\n",
       "      <td>Warner Bros.</td>\n",
       "      <td>16361885</td>\n",
       "      <td>418671800</td>\n",
       "      <td>1941</td>\n",
       "    </tr>\n",
       "    <tr>\n",
       "      <td>153</td>\n",
       "      <td>The Four Horsemen of the Apocalypse</td>\n",
       "      <td>MPC</td>\n",
       "      <td>9183673</td>\n",
       "      <td>399489800</td>\n",
       "      <td>1921</td>\n",
       "    </tr>\n",
       "  </tbody>\n",
       "</table>\n",
       "<p>200 rows × 5 columns</p>\n",
       "</div>"
      ],
      "text/plain": [
       "                                   Title                Studio      Gross  \\\n",
       "137         Star Wars: The Force Awakens  Buena Vista (Disney)  906723418   \n",
       "15                                Avatar                   Fox  760507625   \n",
       "185                              Titanic             Paramount  658672302   \n",
       "78                        Jurassic World             Universal  652270625   \n",
       "86                 Marvel's The Avengers  Buena Vista (Disney)  623357910   \n",
       "..                                   ...                   ...        ...   \n",
       "146                     The Caine Mutiny              Columbia   21750000   \n",
       "143              The Bells of St. Mary's                   RKO   21333333   \n",
       "38                       Duel in the Sun                 Selz.   20408163   \n",
       "121                        Sergeant York          Warner Bros.   16361885   \n",
       "153  The Four Horsemen of the Apocalypse                   MPC    9183673   \n",
       "\n",
       "     Gross (Adjusted)  Year  \n",
       "137         906723400  2015  \n",
       "15          846120800  2009  \n",
       "185        1178627900  1997  \n",
       "78          687728000  2015  \n",
       "86          668866600  2012  \n",
       "..                ...   ...  \n",
       "146         386173500  1954  \n",
       "143         545882400  1945  \n",
       "38          443877500  1946  \n",
       "121         418671800  1941  \n",
       "153         399489800  1921  \n",
       "\n",
       "[200 rows x 5 columns]"
      ]
     },
     "execution_count": 10,
     "metadata": {},
     "output_type": "execute_result"
    }
   ],
   "source": [
    "movies.sort_values('Gross', ascending=False)"
   ]
  },
  {
   "cell_type": "code",
   "execution_count": 11,
   "metadata": {},
   "outputs": [],
   "source": [
    "sorted_by_gross = movies.sort_values('Gross', ascending=False)"
   ]
  },
  {
   "cell_type": "code",
   "execution_count": 12,
   "metadata": {},
   "outputs": [],
   "source": [
    "#Group DataFrame using a mapper or by a Series of columns."
   ]
  },
  {
   "cell_type": "code",
   "execution_count": 13,
   "metadata": {},
   "outputs": [
    {
     "data": {
      "text/plain": [
       "<matplotlib.axes._subplots.AxesSubplot at 0x7ff38a1390d0>"
      ]
     },
     "execution_count": 13,
     "metadata": {},
     "output_type": "execute_result"
    },
    {
     "data": {
      "image/png": "[encoded data removed]",
      "text/plain": [
       "<Figure size 432x288 with 1 Axes>"
      ]
     },
     "metadata": {
      "needs_background": "light"
     },
     "output_type": "display_data"
    }
   ],
   "source": [
    "sorted_by_gross.groupby('Studio')['Gross'].nunique().plot(kind='bar')"
   ]
  },
  {
   "cell_type": "code",
   "execution_count": 14,
   "metadata": {},
   "outputs": [
    {
     "data": {
      "text/html": [
       "<div>\n",
       "<style scoped>\n",
       "    .dataframe tbody tr th:only-of-type {\n",
       "        vertical-align: middle;\n",
       "    }\n",
       "\n",
       "    .dataframe tbody tr th {\n",
       "        vertical-align: top;\n",
       "    }\n",
       "\n",
       "    .dataframe thead th {\n",
       "        text-align: right;\n",
       "    }\n",
       "</style>\n",
       "<table border=\"1\" class=\"dataframe\">\n",
       "  <thead>\n",
       "    <tr style=\"text-align: right;\">\n",
       "      <th></th>\n",
       "      <th>Gross</th>\n",
       "    </tr>\n",
       "    <tr>\n",
       "      <th>Studio</th>\n",
       "      <th></th>\n",
       "    </tr>\n",
       "  </thead>\n",
       "  <tbody>\n",
       "    <tr>\n",
       "      <td>AVCO</td>\n",
       "      <td>1.049453e+08</td>\n",
       "    </tr>\n",
       "    <tr>\n",
       "      <td>Buena Vista (Disney)</td>\n",
       "      <td>3.296298e+08</td>\n",
       "    </tr>\n",
       "    <tr>\n",
       "      <td>Columbia</td>\n",
       "      <td>9.617252e+07</td>\n",
       "    </tr>\n",
       "    <tr>\n",
       "      <td>Disney</td>\n",
       "      <td>1.000626e+08</td>\n",
       "    </tr>\n",
       "    <tr>\n",
       "      <td>Dreamworks</td>\n",
       "      <td>3.084774e+08</td>\n",
       "    </tr>\n",
       "    <tr>\n",
       "      <td>Fox</td>\n",
       "      <td>2.209572e+08</td>\n",
       "    </tr>\n",
       "    <tr>\n",
       "      <td>IFC</td>\n",
       "      <td>2.414382e+08</td>\n",
       "    </tr>\n",
       "    <tr>\n",
       "      <td>Lionsgate</td>\n",
       "      <td>3.899382e+08</td>\n",
       "    </tr>\n",
       "    <tr>\n",
       "      <td>MGM</td>\n",
       "      <td>1.005955e+08</td>\n",
       "    </tr>\n",
       "    <tr>\n",
       "      <td>MPC</td>\n",
       "      <td>9.183673e+06</td>\n",
       "    </tr>\n",
       "    <tr>\n",
       "      <td>NM</td>\n",
       "      <td>3.707829e+08</td>\n",
       "    </tr>\n",
       "    <tr>\n",
       "      <td>New Line</td>\n",
       "      <td>2.936293e+08</td>\n",
       "    </tr>\n",
       "    <tr>\n",
       "      <td>Orion</td>\n",
       "      <td>1.842088e+08</td>\n",
       "    </tr>\n",
       "    <tr>\n",
       "      <td>Paramount</td>\n",
       "      <td>2.010605e+08</td>\n",
       "    </tr>\n",
       "    <tr>\n",
       "      <td>Paramount/Dreamworks</td>\n",
       "      <td>3.491171e+08</td>\n",
       "    </tr>\n",
       "    <tr>\n",
       "      <td>RKO</td>\n",
       "      <td>4.907683e+07</td>\n",
       "    </tr>\n",
       "    <tr>\n",
       "      <td>Selz.</td>\n",
       "      <td>2.040816e+07</td>\n",
       "    </tr>\n",
       "    <tr>\n",
       "      <td>Sony</td>\n",
       "      <td>3.069716e+08</td>\n",
       "    </tr>\n",
       "    <tr>\n",
       "      <td>Sum.</td>\n",
       "      <td>2.985777e+08</td>\n",
       "    </tr>\n",
       "    <tr>\n",
       "      <td>TriS</td>\n",
       "      <td>1.776294e+08</td>\n",
       "    </tr>\n",
       "    <tr>\n",
       "      <td>UA</td>\n",
       "      <td>8.465704e+07</td>\n",
       "    </tr>\n",
       "    <tr>\n",
       "      <td>Universal</td>\n",
       "      <td>2.388549e+08</td>\n",
       "    </tr>\n",
       "    <tr>\n",
       "      <td>Warner Bros.</td>\n",
       "      <td>2.182283e+08</td>\n",
       "    </tr>\n",
       "    <tr>\n",
       "      <td>Warner Bros. (New Line)</td>\n",
       "      <td>3.030036e+08</td>\n",
       "    </tr>\n",
       "  </tbody>\n",
       "</table>\n",
       "</div>"
      ],
      "text/plain": [
       "                                Gross\n",
       "Studio                               \n",
       "AVCO                     1.049453e+08\n",
       "Buena Vista (Disney)     3.296298e+08\n",
       "Columbia                 9.617252e+07\n",
       "Disney                   1.000626e+08\n",
       "Dreamworks               3.084774e+08\n",
       "Fox                      2.209572e+08\n",
       "IFC                      2.414382e+08\n",
       "Lionsgate                3.899382e+08\n",
       "MGM                      1.005955e+08\n",
       "MPC                      9.183673e+06\n",
       "NM                       3.707829e+08\n",
       "New Line                 2.936293e+08\n",
       "Orion                    1.842088e+08\n",
       "Paramount                2.010605e+08\n",
       "Paramount/Dreamworks     3.491171e+08\n",
       "RKO                      4.907683e+07\n",
       "Selz.                    2.040816e+07\n",
       "Sony                     3.069716e+08\n",
       "Sum.                     2.985777e+08\n",
       "TriS                     1.776294e+08\n",
       "UA                       8.465704e+07\n",
       "Universal                2.388549e+08\n",
       "Warner Bros.             2.182283e+08\n",
       "Warner Bros. (New Line)  3.030036e+08"
      ]
     },
     "execution_count": 14,
     "metadata": {},
     "output_type": "execute_result"
    }
   ],
   "source": [
    "movies.groupby('Studio').agg({'Gross': np.average})"
   ]
  },
  {
   "cell_type": "code",
   "execution_count": 72,
   "metadata": {},
   "outputs": [
    {
     "data": {
      "text/html": [
       "<div>\n",
       "<style scoped>\n",
       "    .dataframe tbody tr th:only-of-type {\n",
       "        vertical-align: middle;\n",
       "    }\n",
       "\n",
       "    .dataframe tbody tr th {\n",
       "        vertical-align: top;\n",
       "    }\n",
       "\n",
       "    .dataframe thead th {\n",
       "        text-align: right;\n",
       "    }\n",
       "</style>\n",
       "<table border=\"1\" class=\"dataframe\">\n",
       "  <thead>\n",
       "    <tr style=\"text-align: right;\">\n",
       "      <th></th>\n",
       "      <th>Studio</th>\n",
       "      <th>Gross</th>\n",
       "      <th>Gross (Adjusted)</th>\n",
       "      <th>Year</th>\n",
       "    </tr>\n",
       "    <tr>\n",
       "      <th>Title</th>\n",
       "      <th></th>\n",
       "      <th></th>\n",
       "      <th></th>\n",
       "      <th></th>\n",
       "    </tr>\n",
       "  </thead>\n",
       "  <tbody>\n",
       "    <tr>\n",
       "      <td>101 Dalmatians</td>\n",
       "      <td>Disney</td>\n",
       "      <td>144880014</td>\n",
       "      <td>869280100</td>\n",
       "      <td>1961</td>\n",
       "    </tr>\n",
       "    <tr>\n",
       "      <td>2001: A Space Odyssey</td>\n",
       "      <td>MGM</td>\n",
       "      <td>56954992</td>\n",
       "      <td>377027700</td>\n",
       "      <td>1968</td>\n",
       "    </tr>\n",
       "    <tr>\n",
       "      <td>9 to 5</td>\n",
       "      <td>Fox</td>\n",
       "      <td>103290500</td>\n",
       "      <td>334062200</td>\n",
       "      <td>1980</td>\n",
       "    </tr>\n",
       "    <tr>\n",
       "      <td>A Star Is Born (1976)</td>\n",
       "      <td>Warner Bros.</td>\n",
       "      <td>80000000</td>\n",
       "      <td>326760600</td>\n",
       "      <td>1976</td>\n",
       "    </tr>\n",
       "    <tr>\n",
       "      <td>Air Force One</td>\n",
       "      <td>Sony</td>\n",
       "      <td>172956409</td>\n",
       "      <td>327752300</td>\n",
       "      <td>1997</td>\n",
       "    </tr>\n",
       "    <tr>\n",
       "      <td>...</td>\n",
       "      <td>...</td>\n",
       "      <td>...</td>\n",
       "      <td>...</td>\n",
       "      <td>...</td>\n",
       "    </tr>\n",
       "    <tr>\n",
       "      <td>Up</td>\n",
       "      <td>Buena Vista (Disney)</td>\n",
       "      <td>293004164</td>\n",
       "      <td>341681900</td>\n",
       "      <td>2009</td>\n",
       "    </tr>\n",
       "    <tr>\n",
       "      <td>West Side Story</td>\n",
       "      <td>MGM</td>\n",
       "      <td>43656822</td>\n",
       "      <td>486941500</td>\n",
       "      <td>1961</td>\n",
       "    </tr>\n",
       "    <tr>\n",
       "      <td>What's Up, Doc?</td>\n",
       "      <td>Warner Bros.</td>\n",
       "      <td>66000000</td>\n",
       "      <td>337764700</td>\n",
       "      <td>1972</td>\n",
       "    </tr>\n",
       "    <tr>\n",
       "      <td>Who Framed Roger Rabbit</td>\n",
       "      <td>Buena Vista (Disney)</td>\n",
       "      <td>156452370</td>\n",
       "      <td>331176600</td>\n",
       "      <td>1988</td>\n",
       "    </tr>\n",
       "    <tr>\n",
       "      <td>Young Frankenstein</td>\n",
       "      <td>Fox</td>\n",
       "      <td>86273333</td>\n",
       "      <td>397131200</td>\n",
       "      <td>1974</td>\n",
       "    </tr>\n",
       "  </tbody>\n",
       "</table>\n",
       "<p>200 rows × 4 columns</p>\n",
       "</div>"
      ],
      "text/plain": [
       "                                       Studio      Gross  Gross (Adjusted)  \\\n",
       "Title                                                                        \n",
       "101 Dalmatians                         Disney  144880014         869280100   \n",
       "2001: A Space Odyssey                     MGM   56954992         377027700   \n",
       "9 to 5                                    Fox  103290500         334062200   \n",
       "A Star Is Born (1976)            Warner Bros.   80000000         326760600   \n",
       "Air Force One                            Sony  172956409         327752300   \n",
       "...                                       ...        ...               ...   \n",
       "Up                       Buena Vista (Disney)  293004164         341681900   \n",
       "West Side Story                           MGM   43656822         486941500   \n",
       "What's Up, Doc?                  Warner Bros.   66000000         337764700   \n",
       "Who Framed Roger Rabbit  Buena Vista (Disney)  156452370         331176600   \n",
       "Young Frankenstein                        Fox   86273333         397131200   \n",
       "\n",
       "                         Year  \n",
       "Title                          \n",
       "101 Dalmatians           1961  \n",
       "2001: A Space Odyssey    1968  \n",
       "9 to 5                   1980  \n",
       "A Star Is Born (1976)    1976  \n",
       "Air Force One            1997  \n",
       "...                       ...  \n",
       "Up                       2009  \n",
       "West Side Story          1961  \n",
       "What's Up, Doc?          1972  \n",
       "Who Framed Roger Rabbit  1988  \n",
       "Young Frankenstein       1974  \n",
       "\n",
       "[200 rows x 4 columns]"
      ]
     },
     "execution_count": 72,
     "metadata": {},
     "output_type": "execute_result"
    }
   ],
   "source": [
    "movies1=movies.set_index('Title')\n",
    "movies1"
   ]
  },
  {
   "cell_type": "code",
   "execution_count": 91,
   "metadata": {},
   "outputs": [
    {
     "data": {
      "text/plain": [
       "Title\n",
       "101 Dalmatians           144880014\n",
       "2001: A Space Odyssey     56954992\n",
       "9 to 5                   103290500\n",
       "A Star Is Born (1976)     80000000\n",
       "Air Force One            172956409\n",
       "dtype: int64"
      ]
     },
     "execution_count": 91,
     "metadata": {},
     "output_type": "execute_result"
    }
   ],
   "source": [
    "rows = ['Gross','Gross (Adjusted)']\n",
    "movies1.apply(lambda x: np.min(x[rows]), axis=1).head(5)"
   ]
  },
  {
   "cell_type": "code",
   "execution_count": 76,
   "metadata": {},
   "outputs": [
    {
     "data": {
      "text/html": [
       "<div>\n",
       "<style scoped>\n",
       "    .dataframe tbody tr th:only-of-type {\n",
       "        vertical-align: middle;\n",
       "    }\n",
       "\n",
       "    .dataframe tbody tr th {\n",
       "        vertical-align: top;\n",
       "    }\n",
       "\n",
       "    .dataframe thead th {\n",
       "        text-align: right;\n",
       "    }\n",
       "</style>\n",
       "<table border=\"1\" class=\"dataframe\">\n",
       "  <thead>\n",
       "    <tr style=\"text-align: right;\">\n",
       "      <th></th>\n",
       "      <th>Studio</th>\n",
       "      <th>Gross</th>\n",
       "      <th>Gross (Adjusted)</th>\n",
       "      <th>Year</th>\n",
       "      <th>Max_Gross</th>\n",
       "    </tr>\n",
       "    <tr>\n",
       "      <th>Title</th>\n",
       "      <th></th>\n",
       "      <th></th>\n",
       "      <th></th>\n",
       "      <th></th>\n",
       "      <th></th>\n",
       "    </tr>\n",
       "  </thead>\n",
       "  <tbody>\n",
       "    <tr>\n",
       "      <td>101 Dalmatians</td>\n",
       "      <td>Disney</td>\n",
       "      <td>144880014</td>\n",
       "      <td>869280100</td>\n",
       "      <td>1961</td>\n",
       "      <td>869280100</td>\n",
       "    </tr>\n",
       "    <tr>\n",
       "      <td>2001: A Space Odyssey</td>\n",
       "      <td>MGM</td>\n",
       "      <td>56954992</td>\n",
       "      <td>377027700</td>\n",
       "      <td>1968</td>\n",
       "      <td>377027700</td>\n",
       "    </tr>\n",
       "    <tr>\n",
       "      <td>9 to 5</td>\n",
       "      <td>Fox</td>\n",
       "      <td>103290500</td>\n",
       "      <td>334062200</td>\n",
       "      <td>1980</td>\n",
       "      <td>334062200</td>\n",
       "    </tr>\n",
       "    <tr>\n",
       "      <td>A Star Is Born (1976)</td>\n",
       "      <td>Warner Bros.</td>\n",
       "      <td>80000000</td>\n",
       "      <td>326760600</td>\n",
       "      <td>1976</td>\n",
       "      <td>326760600</td>\n",
       "    </tr>\n",
       "    <tr>\n",
       "      <td>Air Force One</td>\n",
       "      <td>Sony</td>\n",
       "      <td>172956409</td>\n",
       "      <td>327752300</td>\n",
       "      <td>1997</td>\n",
       "      <td>327752300</td>\n",
       "    </tr>\n",
       "  </tbody>\n",
       "</table>\n",
       "</div>"
      ],
      "text/plain": [
       "                             Studio      Gross  Gross (Adjusted)  Year  \\\n",
       "Title                                                                    \n",
       "101 Dalmatians               Disney  144880014         869280100  1961   \n",
       "2001: A Space Odyssey           MGM   56954992         377027700  1968   \n",
       "9 to 5                          Fox  103290500         334062200  1980   \n",
       "A Star Is Born (1976)  Warner Bros.   80000000         326760600  1976   \n",
       "Air Force One                  Sony  172956409         327752300  1997   \n",
       "\n",
       "                       Max_Gross  \n",
       "Title                             \n",
       "101 Dalmatians         869280100  \n",
       "2001: A Space Odyssey  377027700  \n",
       "9 to 5                 334062200  \n",
       "A Star Is Born (1976)  326760600  \n",
       "Air Force One          327752300  "
      ]
     },
     "execution_count": 76,
     "metadata": {},
     "output_type": "execute_result"
    }
   ],
   "source": [
    "import numpy as np\n",
    "def max1(row):\n",
    "    data_columns = row[['Gross','Gross (Adjusted)']]\n",
    "    row['Max_Gross'] = np.max(data_columns)\n",
    "    return row\n",
    "movies1.apply(max1, axis=1).head(5)"
   ]
  },
  {
   "cell_type": "code",
   "execution_count": 110,
   "metadata": {},
   "outputs": [
    {
     "data": {
      "text/plain": [
       "Studio\n",
       "AVCO                        1\n",
       "Buena Vista (Disney)       29\n",
       "Columbia                   10\n",
       "Disney                     11\n",
       "Dreamworks                  3\n",
       "Fox                        26\n",
       "IFC                         1\n",
       "Lionsgate                   3\n",
       "MGM                         7\n",
       "MPC                         1\n",
       "NM                          1\n",
       "New Line                    5\n",
       "Orion                       1\n",
       "Paramount                  25\n",
       "Paramount/Dreamworks        4\n",
       "RKO                         3\n",
       "Selz.                       1\n",
       "Sony                        6\n",
       "Sum.                        2\n",
       "TriS                        2\n",
       "UA                          6\n",
       "Universal                  22\n",
       "Warner Bros.               29\n",
       "Warner Bros. (New Line)     1\n",
       "dtype: int64"
      ]
     },
     "execution_count": 110,
     "metadata": {},
     "output_type": "execute_result"
    }
   ],
   "source": [
    "movies.groupby(['Studio']).size()"
   ]
  },
  {
   "cell_type": "code",
   "execution_count": 14,
   "metadata": {},
   "outputs": [
    {
     "data": {
      "text/html": [
       "<div>\n",
       "<style scoped>\n",
       "    .dataframe tbody tr th:only-of-type {\n",
       "        vertical-align: middle;\n",
       "    }\n",
       "\n",
       "    .dataframe tbody tr th {\n",
       "        vertical-align: top;\n",
       "    }\n",
       "\n",
       "    .dataframe thead th {\n",
       "        text-align: right;\n",
       "    }\n",
       "</style>\n",
       "<table border=\"1\" class=\"dataframe\">\n",
       "  <thead>\n",
       "    <tr style=\"text-align: right;\">\n",
       "      <th></th>\n",
       "      <th>Title</th>\n",
       "      <th>Studio</th>\n",
       "      <th>Gross</th>\n",
       "      <th>Gross (Adjusted)</th>\n",
       "      <th>Year</th>\n",
       "    </tr>\n",
       "  </thead>\n",
       "  <tbody>\n",
       "    <tr>\n",
       "      <td>156</td>\n",
       "      <td>The Graduate</td>\n",
       "      <td>AVCO</td>\n",
       "      <td>104945305</td>\n",
       "      <td>744517700</td>\n",
       "      <td>1967</td>\n",
       "    </tr>\n",
       "    <tr>\n",
       "      <td>137</td>\n",
       "      <td>Star Wars: The Force Awakens</td>\n",
       "      <td>Buena Vista (Disney)</td>\n",
       "      <td>906723418</td>\n",
       "      <td>906723400</td>\n",
       "      <td>2015</td>\n",
       "    </tr>\n",
       "    <tr>\n",
       "      <td>7</td>\n",
       "      <td>Alice in Wonderland (2010)</td>\n",
       "      <td>Buena Vista (Disney)</td>\n",
       "      <td>334191110</td>\n",
       "      <td>365718600</td>\n",
       "      <td>2010</td>\n",
       "    </tr>\n",
       "    <tr>\n",
       "      <td>54</td>\n",
       "      <td>Guardians of the Galaxy</td>\n",
       "      <td>Buena Vista (Disney)</td>\n",
       "      <td>333176600</td>\n",
       "      <td>358244800</td>\n",
       "      <td>2014</td>\n",
       "    </tr>\n",
       "    <tr>\n",
       "      <td>104</td>\n",
       "      <td>Pirates of the Caribbean: At World's End</td>\n",
       "      <td>Buena Vista (Disney)</td>\n",
       "      <td>309420425</td>\n",
       "      <td>391272900</td>\n",
       "      <td>2007</td>\n",
       "    </tr>\n",
       "    <tr>\n",
       "      <td>...</td>\n",
       "      <td>...</td>\n",
       "      <td>...</td>\n",
       "      <td>...</td>\n",
       "      <td>...</td>\n",
       "      <td>...</td>\n",
       "    </tr>\n",
       "    <tr>\n",
       "      <td>197</td>\n",
       "      <td>What's Up, Doc?</td>\n",
       "      <td>Warner Bros.</td>\n",
       "      <td>66000000</td>\n",
       "      <td>337764700</td>\n",
       "      <td>1972</td>\n",
       "    </tr>\n",
       "    <tr>\n",
       "      <td>96</td>\n",
       "      <td>My Fair Lady</td>\n",
       "      <td>Warner Bros.</td>\n",
       "      <td>72000000</td>\n",
       "      <td>522000000</td>\n",
       "      <td>1964</td>\n",
       "    </tr>\n",
       "    <tr>\n",
       "      <td>170</td>\n",
       "      <td>The Matrix Reloaded</td>\n",
       "      <td>Warner Bros.</td>\n",
       "      <td>281576461</td>\n",
       "      <td>406254600</td>\n",
       "      <td>2003</td>\n",
       "    </tr>\n",
       "    <tr>\n",
       "      <td>3</td>\n",
       "      <td>A Star Is Born (1976)</td>\n",
       "      <td>Warner Bros.</td>\n",
       "      <td>80000000</td>\n",
       "      <td>326760600</td>\n",
       "      <td>1976</td>\n",
       "    </tr>\n",
       "    <tr>\n",
       "      <td>159</td>\n",
       "      <td>The Hobbit: An Unexpected Journey</td>\n",
       "      <td>Warner Bros. (New Line)</td>\n",
       "      <td>303003568</td>\n",
       "      <td>329153300</td>\n",
       "      <td>2012</td>\n",
       "    </tr>\n",
       "  </tbody>\n",
       "</table>\n",
       "<p>200 rows × 5 columns</p>\n",
       "</div>"
      ],
      "text/plain": [
       "                                        Title                   Studio  \\\n",
       "156                              The Graduate                     AVCO   \n",
       "137              Star Wars: The Force Awakens     Buena Vista (Disney)   \n",
       "7                  Alice in Wonderland (2010)     Buena Vista (Disney)   \n",
       "54                    Guardians of the Galaxy     Buena Vista (Disney)   \n",
       "104  Pirates of the Caribbean: At World's End     Buena Vista (Disney)   \n",
       "..                                        ...                      ...   \n",
       "197                           What's Up, Doc?             Warner Bros.   \n",
       "96                               My Fair Lady             Warner Bros.   \n",
       "170                       The Matrix Reloaded             Warner Bros.   \n",
       "3                       A Star Is Born (1976)             Warner Bros.   \n",
       "159         The Hobbit: An Unexpected Journey  Warner Bros. (New Line)   \n",
       "\n",
       "         Gross  Gross (Adjusted)  Year  \n",
       "156  104945305         744517700  1967  \n",
       "137  906723418         906723400  2015  \n",
       "7    334191110         365718600  2010  \n",
       "54   333176600         358244800  2014  \n",
       "104  309420425         391272900  2007  \n",
       "..         ...               ...   ...  \n",
       "197   66000000         337764700  1972  \n",
       "96    72000000         522000000  1964  \n",
       "170  281576461         406254600  2003  \n",
       "3     80000000         326760600  1976  \n",
       "159  303003568         329153300  2012  \n",
       "\n",
       "[200 rows x 5 columns]"
      ]
     },
     "execution_count": 14,
     "metadata": {},
     "output_type": "execute_result"
    }
   ],
   "source": [
    "sorted_by_gross.sort_values('Studio')"
   ]
  },
  {
   "cell_type": "code",
   "execution_count": 15,
   "metadata": {},
   "outputs": [
    {
     "data": {
      "text/plain": [
       "array(['Buena Vista (Disney)', 'Fox', 'Paramount', 'Universal',\n",
       "       'Warner Bros.', 'Dreamworks', 'Lionsgate', 'Sony',\n",
       "       'Paramount/Dreamworks', 'New Line', 'NM',\n",
       "       'Warner Bros. (New Line)', 'Sum.', 'Columbia', 'IFC', 'TriS',\n",
       "       'MGM', 'Disney', 'Orion', 'UA', 'AVCO', 'RKO', 'Selz.', 'MPC'],\n",
       "      dtype=object)"
      ]
     },
     "execution_count": 15,
     "metadata": {},
     "output_type": "execute_result"
    }
   ],
   "source": [
    "sorted_by_gross_unique=sorted_by_gross['Studio'].unique()\n",
    "sorted_by_gross_unique"
   ]
  },
  {
   "cell_type": "code",
   "execution_count": 22,
   "metadata": {},
   "outputs": [],
   "source": [
    "# This table can be found online: https://www.statcrunch.com/app/index.php?dataid=1843341\n",
    "# Salaries are in millions of $\n",
    "nba =  pd.read_csv('nba_salaries.csv')"
   ]
  },
  {
   "cell_type": "code",
   "execution_count": 23,
   "metadata": {},
   "outputs": [
    {
     "data": {
      "text/html": [
       "<div>\n",
       "<style scoped>\n",
       "    .dataframe tbody tr th:only-of-type {\n",
       "        vertical-align: middle;\n",
       "    }\n",
       "\n",
       "    .dataframe tbody tr th {\n",
       "        vertical-align: top;\n",
       "    }\n",
       "\n",
       "    .dataframe thead th {\n",
       "        text-align: right;\n",
       "    }\n",
       "</style>\n",
       "<table border=\"1\" class=\"dataframe\">\n",
       "  <thead>\n",
       "    <tr style=\"text-align: right;\">\n",
       "      <th></th>\n",
       "      <th>RANK</th>\n",
       "      <th>PLAYER</th>\n",
       "      <th>POSITION</th>\n",
       "      <th>TEAM</th>\n",
       "      <th>SALARY ($M)</th>\n",
       "    </tr>\n",
       "  </thead>\n",
       "  <tbody>\n",
       "    <tr>\n",
       "      <td>0</td>\n",
       "      <td>1</td>\n",
       "      <td>Kobe Bryant</td>\n",
       "      <td>SF</td>\n",
       "      <td>Los Angeles Lakers</td>\n",
       "      <td>25.000000</td>\n",
       "    </tr>\n",
       "    <tr>\n",
       "      <td>1</td>\n",
       "      <td>2</td>\n",
       "      <td>Joe Johnson</td>\n",
       "      <td>SF</td>\n",
       "      <td>Brooklyn Nets</td>\n",
       "      <td>24.894863</td>\n",
       "    </tr>\n",
       "    <tr>\n",
       "      <td>2</td>\n",
       "      <td>3</td>\n",
       "      <td>LeBron James</td>\n",
       "      <td>SF</td>\n",
       "      <td>Cleveland Cavaliers</td>\n",
       "      <td>22.970500</td>\n",
       "    </tr>\n",
       "    <tr>\n",
       "      <td>3</td>\n",
       "      <td>4</td>\n",
       "      <td>Carmelo Anthony</td>\n",
       "      <td>SF</td>\n",
       "      <td>New York Knicks</td>\n",
       "      <td>22.875000</td>\n",
       "    </tr>\n",
       "    <tr>\n",
       "      <td>4</td>\n",
       "      <td>5</td>\n",
       "      <td>Dwight Howard</td>\n",
       "      <td>C</td>\n",
       "      <td>Houston Rockets</td>\n",
       "      <td>22.359364</td>\n",
       "    </tr>\n",
       "    <tr>\n",
       "      <td>...</td>\n",
       "      <td>...</td>\n",
       "      <td>...</td>\n",
       "      <td>...</td>\n",
       "      <td>...</td>\n",
       "      <td>...</td>\n",
       "    </tr>\n",
       "    <tr>\n",
       "      <td>412</td>\n",
       "      <td>413</td>\n",
       "      <td>Elliot Williams</td>\n",
       "      <td>SG</td>\n",
       "      <td>Memphis Grizzlies</td>\n",
       "      <td>0.055722</td>\n",
       "    </tr>\n",
       "    <tr>\n",
       "      <td>413</td>\n",
       "      <td>414</td>\n",
       "      <td>Phil Pressey</td>\n",
       "      <td>PG</td>\n",
       "      <td>Phoenix Suns</td>\n",
       "      <td>0.055722</td>\n",
       "    </tr>\n",
       "    <tr>\n",
       "      <td>414</td>\n",
       "      <td>415</td>\n",
       "      <td>Jordan McRae</td>\n",
       "      <td>SG</td>\n",
       "      <td>Phoenix Suns</td>\n",
       "      <td>0.049709</td>\n",
       "    </tr>\n",
       "    <tr>\n",
       "      <td>415</td>\n",
       "      <td>416</td>\n",
       "      <td>Cory Jefferson</td>\n",
       "      <td>PF</td>\n",
       "      <td>Phoenix Suns</td>\n",
       "      <td>0.049709</td>\n",
       "    </tr>\n",
       "    <tr>\n",
       "      <td>416</td>\n",
       "      <td>417</td>\n",
       "      <td>Thanasis Antetokounmpo</td>\n",
       "      <td>SF</td>\n",
       "      <td>New York Knicks</td>\n",
       "      <td>0.030888</td>\n",
       "    </tr>\n",
       "  </tbody>\n",
       "</table>\n",
       "<p>417 rows × 5 columns</p>\n",
       "</div>"
      ],
      "text/plain": [
       "     RANK                  PLAYER POSITION                 TEAM  SALARY ($M)\n",
       "0       1             Kobe Bryant       SF   Los Angeles Lakers    25.000000\n",
       "1       2             Joe Johnson       SF        Brooklyn Nets    24.894863\n",
       "2       3            LeBron James       SF  Cleveland Cavaliers    22.970500\n",
       "3       4         Carmelo Anthony       SF      New York Knicks    22.875000\n",
       "4       5           Dwight Howard        C      Houston Rockets    22.359364\n",
       "..    ...                     ...      ...                  ...          ...\n",
       "412   413         Elliot Williams       SG    Memphis Grizzlies     0.055722\n",
       "413   414            Phil Pressey       PG         Phoenix Suns     0.055722\n",
       "414   415            Jordan McRae       SG         Phoenix Suns     0.049709\n",
       "415   416          Cory Jefferson       PF         Phoenix Suns     0.049709\n",
       "416   417  Thanasis Antetokounmpo       SF      New York Knicks     0.030888\n",
       "\n",
       "[417 rows x 5 columns]"
      ]
     },
     "execution_count": 23,
     "metadata": {},
     "output_type": "execute_result"
    }
   ],
   "source": [
    "nba"
   ]
  },
  {
   "cell_type": "code",
   "execution_count": 24,
   "metadata": {},
   "outputs": [
    {
     "data": {
      "text/html": [
       "<div>\n",
       "<style scoped>\n",
       "    .dataframe tbody tr th:only-of-type {\n",
       "        vertical-align: middle;\n",
       "    }\n",
       "\n",
       "    .dataframe tbody tr th {\n",
       "        vertical-align: top;\n",
       "    }\n",
       "\n",
       "    .dataframe thead th {\n",
       "        text-align: right;\n",
       "    }\n",
       "</style>\n",
       "<table border=\"1\" class=\"dataframe\">\n",
       "  <thead>\n",
       "    <tr style=\"text-align: right;\">\n",
       "      <th></th>\n",
       "      <th>RANK</th>\n",
       "      <th>PLAYER</th>\n",
       "      <th>POSITION</th>\n",
       "      <th>TEAM</th>\n",
       "      <th>SALARY ($M)</th>\n",
       "    </tr>\n",
       "  </thead>\n",
       "  <tbody>\n",
       "    <tr>\n",
       "      <td>416</td>\n",
       "      <td>417</td>\n",
       "      <td>Thanasis Antetokounmpo</td>\n",
       "      <td>SF</td>\n",
       "      <td>New York Knicks</td>\n",
       "      <td>0.030888</td>\n",
       "    </tr>\n",
       "    <tr>\n",
       "      <td>415</td>\n",
       "      <td>416</td>\n",
       "      <td>Cory Jefferson</td>\n",
       "      <td>PF</td>\n",
       "      <td>Phoenix Suns</td>\n",
       "      <td>0.049709</td>\n",
       "    </tr>\n",
       "    <tr>\n",
       "      <td>414</td>\n",
       "      <td>415</td>\n",
       "      <td>Jordan McRae</td>\n",
       "      <td>SG</td>\n",
       "      <td>Phoenix Suns</td>\n",
       "      <td>0.049709</td>\n",
       "    </tr>\n",
       "    <tr>\n",
       "      <td>411</td>\n",
       "      <td>412</td>\n",
       "      <td>Orlando Johnson</td>\n",
       "      <td>SG</td>\n",
       "      <td>Phoenix Suns</td>\n",
       "      <td>0.055722</td>\n",
       "    </tr>\n",
       "    <tr>\n",
       "      <td>413</td>\n",
       "      <td>414</td>\n",
       "      <td>Phil Pressey</td>\n",
       "      <td>PG</td>\n",
       "      <td>Phoenix Suns</td>\n",
       "      <td>0.055722</td>\n",
       "    </tr>\n",
       "    <tr>\n",
       "      <td>...</td>\n",
       "      <td>...</td>\n",
       "      <td>...</td>\n",
       "      <td>...</td>\n",
       "      <td>...</td>\n",
       "      <td>...</td>\n",
       "    </tr>\n",
       "    <tr>\n",
       "      <td>4</td>\n",
       "      <td>5</td>\n",
       "      <td>Dwight Howard</td>\n",
       "      <td>C</td>\n",
       "      <td>Houston Rockets</td>\n",
       "      <td>22.359364</td>\n",
       "    </tr>\n",
       "    <tr>\n",
       "      <td>3</td>\n",
       "      <td>4</td>\n",
       "      <td>Carmelo Anthony</td>\n",
       "      <td>SF</td>\n",
       "      <td>New York Knicks</td>\n",
       "      <td>22.875000</td>\n",
       "    </tr>\n",
       "    <tr>\n",
       "      <td>2</td>\n",
       "      <td>3</td>\n",
       "      <td>LeBron James</td>\n",
       "      <td>SF</td>\n",
       "      <td>Cleveland Cavaliers</td>\n",
       "      <td>22.970500</td>\n",
       "    </tr>\n",
       "    <tr>\n",
       "      <td>1</td>\n",
       "      <td>2</td>\n",
       "      <td>Joe Johnson</td>\n",
       "      <td>SF</td>\n",
       "      <td>Brooklyn Nets</td>\n",
       "      <td>24.894863</td>\n",
       "    </tr>\n",
       "    <tr>\n",
       "      <td>0</td>\n",
       "      <td>1</td>\n",
       "      <td>Kobe Bryant</td>\n",
       "      <td>SF</td>\n",
       "      <td>Los Angeles Lakers</td>\n",
       "      <td>25.000000</td>\n",
       "    </tr>\n",
       "  </tbody>\n",
       "</table>\n",
       "<p>417 rows × 5 columns</p>\n",
       "</div>"
      ],
      "text/plain": [
       "     RANK                  PLAYER POSITION                 TEAM  SALARY ($M)\n",
       "416   417  Thanasis Antetokounmpo       SF      New York Knicks     0.030888\n",
       "415   416          Cory Jefferson       PF         Phoenix Suns     0.049709\n",
       "414   415            Jordan McRae       SG         Phoenix Suns     0.049709\n",
       "411   412         Orlando Johnson       SG         Phoenix Suns     0.055722\n",
       "413   414            Phil Pressey       PG         Phoenix Suns     0.055722\n",
       "..    ...                     ...      ...                  ...          ...\n",
       "4       5           Dwight Howard        C      Houston Rockets    22.359364\n",
       "3       4         Carmelo Anthony       SF      New York Knicks    22.875000\n",
       "2       3            LeBron James       SF  Cleveland Cavaliers    22.970500\n",
       "1       2             Joe Johnson       SF        Brooklyn Nets    24.894863\n",
       "0       1             Kobe Bryant       SF   Los Angeles Lakers    25.000000\n",
       "\n",
       "[417 rows x 5 columns]"
      ]
     },
     "execution_count": 24,
     "metadata": {},
     "output_type": "execute_result"
    }
   ],
   "source": [
    "nba.sort_values('SALARY ($M)')"
   ]
  },
  {
   "cell_type": "code",
   "execution_count": 25,
   "metadata": {},
   "outputs": [
    {
     "data": {
      "text/html": [
       "<div>\n",
       "<style scoped>\n",
       "    .dataframe tbody tr th:only-of-type {\n",
       "        vertical-align: middle;\n",
       "    }\n",
       "\n",
       "    .dataframe tbody tr th {\n",
       "        vertical-align: top;\n",
       "    }\n",
       "\n",
       "    .dataframe thead th {\n",
       "        text-align: right;\n",
       "    }\n",
       "</style>\n",
       "<table border=\"1\" class=\"dataframe\">\n",
       "  <thead>\n",
       "    <tr style=\"text-align: right;\">\n",
       "      <th></th>\n",
       "      <th>RANK</th>\n",
       "      <th>PLAYER</th>\n",
       "      <th>POSITION</th>\n",
       "      <th>TEAM</th>\n",
       "      <th>SALARY ($M)</th>\n",
       "    </tr>\n",
       "  </thead>\n",
       "  <tbody>\n",
       "    <tr>\n",
       "      <td>0</td>\n",
       "      <td>1.0</td>\n",
       "      <td>Kobe Bryant</td>\n",
       "      <td>SF</td>\n",
       "      <td>Los Angeles Lakers</td>\n",
       "      <td>25.000000</td>\n",
       "    </tr>\n",
       "    <tr>\n",
       "      <td>1</td>\n",
       "      <td>2.0</td>\n",
       "      <td>Joe Johnson</td>\n",
       "      <td>SF</td>\n",
       "      <td>Brooklyn Nets</td>\n",
       "      <td>24.894863</td>\n",
       "    </tr>\n",
       "    <tr>\n",
       "      <td>2</td>\n",
       "      <td>3.0</td>\n",
       "      <td>LeBron James</td>\n",
       "      <td>SF</td>\n",
       "      <td>Cleveland Cavaliers</td>\n",
       "      <td>22.970500</td>\n",
       "    </tr>\n",
       "    <tr>\n",
       "      <td>3</td>\n",
       "      <td>4.0</td>\n",
       "      <td>Carmelo Anthony</td>\n",
       "      <td>SF</td>\n",
       "      <td>New York Knicks</td>\n",
       "      <td>22.875000</td>\n",
       "    </tr>\n",
       "    <tr>\n",
       "      <td>4</td>\n",
       "      <td>5.0</td>\n",
       "      <td>Dwight Howard</td>\n",
       "      <td>C</td>\n",
       "      <td>Houston Rockets</td>\n",
       "      <td>22.359364</td>\n",
       "    </tr>\n",
       "    <tr>\n",
       "      <td>...</td>\n",
       "      <td>...</td>\n",
       "      <td>...</td>\n",
       "      <td>...</td>\n",
       "      <td>...</td>\n",
       "      <td>...</td>\n",
       "    </tr>\n",
       "    <tr>\n",
       "      <td>64</td>\n",
       "      <td>65.0</td>\n",
       "      <td>Wilson Chandler</td>\n",
       "      <td>SF</td>\n",
       "      <td>Denver Nuggets</td>\n",
       "      <td>10.449438</td>\n",
       "    </tr>\n",
       "    <tr>\n",
       "      <td>65</td>\n",
       "      <td>66.0</td>\n",
       "      <td>Monta Ellis</td>\n",
       "      <td>SG</td>\n",
       "      <td>Indiana Pacers</td>\n",
       "      <td>10.300000</td>\n",
       "    </tr>\n",
       "    <tr>\n",
       "      <td>66</td>\n",
       "      <td>67.0</td>\n",
       "      <td>Luol Deng</td>\n",
       "      <td>SF</td>\n",
       "      <td>Miami Heat</td>\n",
       "      <td>10.151612</td>\n",
       "    </tr>\n",
       "    <tr>\n",
       "      <td>67</td>\n",
       "      <td>68.0</td>\n",
       "      <td>Gerald Wallace</td>\n",
       "      <td>SF</td>\n",
       "      <td>Philadelphia 76ers</td>\n",
       "      <td>10.105855</td>\n",
       "    </tr>\n",
       "    <tr>\n",
       "      <td>68</td>\n",
       "      <td>69.0</td>\n",
       "      <td>DeMar DeRozan</td>\n",
       "      <td>SG</td>\n",
       "      <td>Toronto Raptors</td>\n",
       "      <td>10.050000</td>\n",
       "    </tr>\n",
       "  </tbody>\n",
       "</table>\n",
       "<p>69 rows × 5 columns</p>\n",
       "</div>"
      ],
      "text/plain": [
       "    RANK           PLAYER POSITION                 TEAM  SALARY ($M)\n",
       "0    1.0      Kobe Bryant       SF   Los Angeles Lakers    25.000000\n",
       "1    2.0      Joe Johnson       SF        Brooklyn Nets    24.894863\n",
       "2    3.0     LeBron James       SF  Cleveland Cavaliers    22.970500\n",
       "3    4.0  Carmelo Anthony       SF      New York Knicks    22.875000\n",
       "4    5.0    Dwight Howard        C      Houston Rockets    22.359364\n",
       "..   ...              ...      ...                  ...          ...\n",
       "64  65.0  Wilson Chandler       SF       Denver Nuggets    10.449438\n",
       "65  66.0      Monta Ellis       SG       Indiana Pacers    10.300000\n",
       "66  67.0        Luol Deng       SF           Miami Heat    10.151612\n",
       "67  68.0   Gerald Wallace       SF   Philadelphia 76ers    10.105855\n",
       "68  69.0    DeMar DeRozan       SG      Toronto Raptors    10.050000\n",
       "\n",
       "[69 rows x 5 columns]"
      ]
     },
     "execution_count": 25,
     "metadata": {},
     "output_type": "execute_result"
    }
   ],
   "source": [
    "nba.where(nba['SALARY ($M)']>10).dropna()"
   ]
  },
  {
   "cell_type": "code",
   "execution_count": 26,
   "metadata": {},
   "outputs": [
    {
     "data": {
      "text/html": [
       "<div>\n",
       "<style scoped>\n",
       "    .dataframe tbody tr th:only-of-type {\n",
       "        vertical-align: middle;\n",
       "    }\n",
       "\n",
       "    .dataframe tbody tr th {\n",
       "        vertical-align: top;\n",
       "    }\n",
       "\n",
       "    .dataframe thead th {\n",
       "        text-align: right;\n",
       "    }\n",
       "</style>\n",
       "<table border=\"1\" class=\"dataframe\">\n",
       "  <thead>\n",
       "    <tr style=\"text-align: right;\">\n",
       "      <th></th>\n",
       "      <th>RANK</th>\n",
       "      <th>PLAYER</th>\n",
       "      <th>POSITION</th>\n",
       "      <th>TEAM</th>\n",
       "      <th>SALARY ($M)</th>\n",
       "    </tr>\n",
       "  </thead>\n",
       "  <tbody>\n",
       "    <tr>\n",
       "      <td>2</td>\n",
       "      <td>3.0</td>\n",
       "      <td>LeBron James</td>\n",
       "      <td>SF</td>\n",
       "      <td>Cleveland Cavaliers</td>\n",
       "      <td>22.9705</td>\n",
       "    </tr>\n",
       "  </tbody>\n",
       "</table>\n",
       "</div>"
      ],
      "text/plain": [
       "   RANK        PLAYER POSITION                 TEAM  SALARY ($M)\n",
       "2   3.0  LeBron James       SF  Cleveland Cavaliers      22.9705"
      ]
     },
     "execution_count": 26,
     "metadata": {},
     "output_type": "execute_result"
    }
   ],
   "source": [
    "nba.where(nba['PLAYER']=='LeBron James').dropna()"
   ]
  },
  {
   "cell_type": "code",
   "execution_count": 27,
   "metadata": {},
   "outputs": [
    {
     "data": {
      "text/html": [
       "<div>\n",
       "<style scoped>\n",
       "    .dataframe tbody tr th:only-of-type {\n",
       "        vertical-align: middle;\n",
       "    }\n",
       "\n",
       "    .dataframe tbody tr th {\n",
       "        vertical-align: top;\n",
       "    }\n",
       "\n",
       "    .dataframe thead th {\n",
       "        text-align: right;\n",
       "    }\n",
       "</style>\n",
       "<table border=\"1\" class=\"dataframe\">\n",
       "  <thead>\n",
       "    <tr style=\"text-align: right;\">\n",
       "      <th></th>\n",
       "      <th>RANK</th>\n",
       "      <th>PLAYER</th>\n",
       "      <th>POSITION</th>\n",
       "      <th>TEAM</th>\n",
       "      <th>SALARY ($M)</th>\n",
       "    </tr>\n",
       "  </thead>\n",
       "  <tbody>\n",
       "    <tr>\n",
       "      <td>3</td>\n",
       "      <td>4.0</td>\n",
       "      <td>Carmelo Anthony</td>\n",
       "      <td>SF</td>\n",
       "      <td>New York Knicks</td>\n",
       "      <td>22.875000</td>\n",
       "    </tr>\n",
       "    <tr>\n",
       "      <td>47</td>\n",
       "      <td>48.0</td>\n",
       "      <td>Robin Lopez</td>\n",
       "      <td>C</td>\n",
       "      <td>New York Knicks</td>\n",
       "      <td>12.650000</td>\n",
       "    </tr>\n",
       "    <tr>\n",
       "      <td>89</td>\n",
       "      <td>90.0</td>\n",
       "      <td>Arron Afflalo</td>\n",
       "      <td>SG</td>\n",
       "      <td>New York Knicks</td>\n",
       "      <td>8.000000</td>\n",
       "    </tr>\n",
       "    <tr>\n",
       "      <td>96</td>\n",
       "      <td>97.0</td>\n",
       "      <td>Jose Calderon</td>\n",
       "      <td>PG</td>\n",
       "      <td>New York Knicks</td>\n",
       "      <td>7.402812</td>\n",
       "    </tr>\n",
       "    <tr>\n",
       "      <td>166</td>\n",
       "      <td>167.0</td>\n",
       "      <td>Kristaps Porzingis</td>\n",
       "      <td>PF</td>\n",
       "      <td>New York Knicks</td>\n",
       "      <td>4.131720</td>\n",
       "    </tr>\n",
       "    <tr>\n",
       "      <td>173</td>\n",
       "      <td>174.0</td>\n",
       "      <td>Derrick Williams</td>\n",
       "      <td>PF</td>\n",
       "      <td>New York Knicks</td>\n",
       "      <td>4.000000</td>\n",
       "    </tr>\n",
       "    <tr>\n",
       "      <td>182</td>\n",
       "      <td>183.0</td>\n",
       "      <td>Kyle O'Quinn</td>\n",
       "      <td>PF</td>\n",
       "      <td>New York Knicks</td>\n",
       "      <td>3.750000</td>\n",
       "    </tr>\n",
       "    <tr>\n",
       "      <td>284</td>\n",
       "      <td>285.0</td>\n",
       "      <td>Lance Thomas</td>\n",
       "      <td>SF</td>\n",
       "      <td>New York Knicks</td>\n",
       "      <td>1.636842</td>\n",
       "    </tr>\n",
       "    <tr>\n",
       "      <td>285</td>\n",
       "      <td>286.0</td>\n",
       "      <td>Lou Amundson</td>\n",
       "      <td>PF</td>\n",
       "      <td>New York Knicks</td>\n",
       "      <td>1.635476</td>\n",
       "    </tr>\n",
       "    <tr>\n",
       "      <td>288</td>\n",
       "      <td>289.0</td>\n",
       "      <td>Jerian Grant</td>\n",
       "      <td>PG</td>\n",
       "      <td>New York Knicks</td>\n",
       "      <td>1.572360</td>\n",
       "    </tr>\n",
       "    <tr>\n",
       "      <td>370</td>\n",
       "      <td>371.0</td>\n",
       "      <td>Jimmer Fredette</td>\n",
       "      <td>PG</td>\n",
       "      <td>New York Knicks</td>\n",
       "      <td>0.874837</td>\n",
       "    </tr>\n",
       "    <tr>\n",
       "      <td>375</td>\n",
       "      <td>376.0</td>\n",
       "      <td>Langston Galloway</td>\n",
       "      <td>SG</td>\n",
       "      <td>New York Knicks</td>\n",
       "      <td>0.845059</td>\n",
       "    </tr>\n",
       "    <tr>\n",
       "      <td>416</td>\n",
       "      <td>417.0</td>\n",
       "      <td>Thanasis Antetokounmpo</td>\n",
       "      <td>SF</td>\n",
       "      <td>New York Knicks</td>\n",
       "      <td>0.030888</td>\n",
       "    </tr>\n",
       "  </tbody>\n",
       "</table>\n",
       "</div>"
      ],
      "text/plain": [
       "      RANK                  PLAYER POSITION             TEAM  SALARY ($M)\n",
       "3      4.0         Carmelo Anthony       SF  New York Knicks    22.875000\n",
       "47    48.0             Robin Lopez        C  New York Knicks    12.650000\n",
       "89    90.0           Arron Afflalo       SG  New York Knicks     8.000000\n",
       "96    97.0           Jose Calderon       PG  New York Knicks     7.402812\n",
       "166  167.0      Kristaps Porzingis       PF  New York Knicks     4.131720\n",
       "173  174.0        Derrick Williams       PF  New York Knicks     4.000000\n",
       "182  183.0            Kyle O'Quinn       PF  New York Knicks     3.750000\n",
       "284  285.0            Lance Thomas       SF  New York Knicks     1.636842\n",
       "285  286.0            Lou Amundson       PF  New York Knicks     1.635476\n",
       "288  289.0            Jerian Grant       PG  New York Knicks     1.572360\n",
       "370  371.0         Jimmer Fredette       PG  New York Knicks     0.874837\n",
       "375  376.0       Langston Galloway       SG  New York Knicks     0.845059\n",
       "416  417.0  Thanasis Antetokounmpo       SF  New York Knicks     0.030888"
      ]
     },
     "execution_count": 27,
     "metadata": {},
     "output_type": "execute_result"
    }
   ],
   "source": [
    "nba1=nba.where(nba['TEAM']=='New York Knicks').dropna()\n",
    "nba1"
   ]
  },
  {
   "cell_type": "code",
   "execution_count": 28,
   "metadata": {},
   "outputs": [],
   "source": [
    "df = nba.copy()"
   ]
  },
  {
   "cell_type": "code",
   "execution_count": 47,
   "metadata": {},
   "outputs": [
    {
     "name": "stdout",
     "output_type": "stream",
     "text": [
      "   RANKING           PLAYER POSITION                 TEAM  SALARY ($M)\n",
      "0      1.0      Kobe Bryant       SF   Los Angeles Lakers    25.000000\n",
      "1      2.0      Joe Johnson       SF        Brooklyn Nets    24.894863\n",
      "2      3.0     LeBron James       SF  Cleveland Cavaliers    22.970500\n",
      "3      4.0  Carmelo Anthony       SF      New York Knicks    22.875000\n",
      "4      5.0    Dwight Howard        C      Houston Rockets    22.359364\n"
     ]
    }
   ],
   "source": [
    "print(df.where(df['SALARY ($M)']>5).rename(columns={'RANK':'RANKING'}).head())"
   ]
  },
  {
   "cell_type": "code",
   "execution_count": 48,
   "metadata": {},
   "outputs": [
    {
     "data": {
      "text/html": [
       "<div>\n",
       "<style scoped>\n",
       "    .dataframe tbody tr th:only-of-type {\n",
       "        vertical-align: middle;\n",
       "    }\n",
       "\n",
       "    .dataframe tbody tr th {\n",
       "        vertical-align: top;\n",
       "    }\n",
       "\n",
       "    .dataframe thead th {\n",
       "        text-align: right;\n",
       "    }\n",
       "</style>\n",
       "<table border=\"1\" class=\"dataframe\">\n",
       "  <thead>\n",
       "    <tr style=\"text-align: right;\">\n",
       "      <th></th>\n",
       "      <th>RANK</th>\n",
       "      <th>POSITION</th>\n",
       "      <th>TEAM</th>\n",
       "      <th>SALARY ($M)</th>\n",
       "    </tr>\n",
       "    <tr>\n",
       "      <th>PLAYER</th>\n",
       "      <th></th>\n",
       "      <th></th>\n",
       "      <th></th>\n",
       "      <th></th>\n",
       "    </tr>\n",
       "  </thead>\n",
       "  <tbody>\n",
       "    <tr>\n",
       "      <td>Ricky Rubio</td>\n",
       "      <td>47.0</td>\n",
       "      <td>PG</td>\n",
       "      <td>Minnesota Timberwolves</td>\n",
       "      <td>12.700000</td>\n",
       "    </tr>\n",
       "    <tr>\n",
       "      <td>Robin Lopez</td>\n",
       "      <td>48.0</td>\n",
       "      <td>C</td>\n",
       "      <td>New York Knicks</td>\n",
       "      <td>12.650000</td>\n",
       "    </tr>\n",
       "    <tr>\n",
       "      <td>Ty Lawson</td>\n",
       "      <td>49.0</td>\n",
       "      <td>PG</td>\n",
       "      <td>Houston Rockets</td>\n",
       "      <td>12.404495</td>\n",
       "    </tr>\n",
       "    <tr>\n",
       "      <td>Rudy Gay</td>\n",
       "      <td>50.0</td>\n",
       "      <td>SF</td>\n",
       "      <td>Sacramento Kings</td>\n",
       "      <td>12.403101</td>\n",
       "    </tr>\n",
       "    <tr>\n",
       "      <td>Serge Ibaka</td>\n",
       "      <td>51.0</td>\n",
       "      <td>PF</td>\n",
       "      <td>Oklahoma City Thunder</td>\n",
       "      <td>12.250000</td>\n",
       "    </tr>\n",
       "    <tr>\n",
       "      <td>...</td>\n",
       "      <td>...</td>\n",
       "      <td>...</td>\n",
       "      <td>...</td>\n",
       "      <td>...</td>\n",
       "    </tr>\n",
       "    <tr>\n",
       "      <td>Jabari Parker</td>\n",
       "      <td>140.0</td>\n",
       "      <td>PF</td>\n",
       "      <td>Milwaukee Bucks</td>\n",
       "      <td>5.152440</td>\n",
       "    </tr>\n",
       "    <tr>\n",
       "      <td>Dion Waiters</td>\n",
       "      <td>141.0</td>\n",
       "      <td>SG</td>\n",
       "      <td>Oklahoma City Thunder</td>\n",
       "      <td>5.138430</td>\n",
       "    </tr>\n",
       "    <tr>\n",
       "      <td>D'Angelo Russell</td>\n",
       "      <td>142.0</td>\n",
       "      <td>PG</td>\n",
       "      <td>Los Angeles Lakers</td>\n",
       "      <td>5.103120</td>\n",
       "    </tr>\n",
       "    <tr>\n",
       "      <td>Chris Kaman</td>\n",
       "      <td>143.0</td>\n",
       "      <td>C</td>\n",
       "      <td>Portland Trail Blazers</td>\n",
       "      <td>5.016000</td>\n",
       "    </tr>\n",
       "    <tr>\n",
       "      <td>Darren Collison</td>\n",
       "      <td>144.0</td>\n",
       "      <td>PG</td>\n",
       "      <td>Sacramento Kings</td>\n",
       "      <td>5.013559</td>\n",
       "    </tr>\n",
       "  </tbody>\n",
       "</table>\n",
       "<p>98 rows × 4 columns</p>\n",
       "</div>"
      ],
      "text/plain": [
       "                   RANK POSITION                    TEAM  SALARY ($M)\n",
       "PLAYER                                                               \n",
       "Ricky Rubio        47.0       PG  Minnesota Timberwolves    12.700000\n",
       "Robin Lopez        48.0        C         New York Knicks    12.650000\n",
       "Ty Lawson          49.0       PG         Houston Rockets    12.404495\n",
       "Rudy Gay           50.0       SF        Sacramento Kings    12.403101\n",
       "Serge Ibaka        51.0       PF   Oklahoma City Thunder    12.250000\n",
       "...                 ...      ...                     ...          ...\n",
       "Jabari Parker     140.0       PF         Milwaukee Bucks     5.152440\n",
       "Dion Waiters      141.0       SG   Oklahoma City Thunder     5.138430\n",
       "D'Angelo Russell  142.0       PG      Los Angeles Lakers     5.103120\n",
       "Chris Kaman       143.0        C  Portland Trail Blazers     5.016000\n",
       "Darren Collison   144.0       PG        Sacramento Kings     5.013559\n",
       "\n",
       "[98 rows x 4 columns]"
      ]
     },
     "execution_count": 48,
     "metadata": {},
     "output_type": "execute_result"
    }
   ],
   "source": [
    "(df.where((df['SALARY ($M)'] > 5) & (df['SALARY ($M)'] < 13))\n",
    "    .dropna().set_index('PLAYER'))\n",
    "    "
   ]
  },
  {
   "cell_type": "code",
   "execution_count": 80,
   "metadata": {},
   "outputs": [],
   "source": [
    "#sorted_by_gross.groupby('Studio').agg({\"Gross\": np.sum, \"Studio\": pd.Series.nunique}).plot(kind='bar')"
   ]
  },
  {
   "cell_type": "code",
   "execution_count": 107,
   "metadata": {},
   "outputs": [],
   "source": [
    "#min_salary=nba['SALARY ($M)'].min()"
   ]
  },
  {
   "cell_type": "code",
   "execution_count": 106,
   "metadata": {},
   "outputs": [],
   "source": [
    "#nba.loc[lambda nba: nba['SALARY ($M)'] == min_salary]"
   ]
  },
  {
   "cell_type": "code",
   "execution_count": null,
   "metadata": {},
   "outputs": [],
   "source": []
  },
  {
   "cell_type": "code",
   "execution_count": null,
   "metadata": {},
   "outputs": [],
   "source": []
  }
 ],
 "metadata": {
  "kernelspec": {
   "display_name": "Python 3",
   "language": "python",
   "name": "python3"
  },
  "language_info": {
   "codemirror_mode": {
    "name": "ipython",
    "version": 3
   },
   "file_extension": ".py",
   "mimetype": "text/x-python",
   "name": "python",
   "nbconvert_exporter": "python",
   "pygments_lexer": "ipython3",
   "version": "3.8.5"
  }
 },
 "nbformat": 4,
 "nbformat_minor": 2
}
